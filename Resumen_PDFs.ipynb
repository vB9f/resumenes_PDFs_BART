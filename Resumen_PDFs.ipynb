{
  "nbformat": 4,
  "nbformat_minor": 0,
  "metadata": {
    "colab": {
      "provenance": []
    },
    "kernelspec": {
      "name": "python3",
      "display_name": "Python 3"
    },
    "language_info": {
      "name": "python"
    },
    "widgets": {
      "application/vnd.jupyter.widget-state+json": {
        "3fe411dd4f5e4be586df2277d9d2d858": {
          "model_module": "@jupyter-widgets/controls",
          "model_name": "HBoxModel",
          "model_module_version": "1.5.0",
          "state": {
            "_dom_classes": [],
            "_model_module": "@jupyter-widgets/controls",
            "_model_module_version": "1.5.0",
            "_model_name": "HBoxModel",
            "_view_count": null,
            "_view_module": "@jupyter-widgets/controls",
            "_view_module_version": "1.5.0",
            "_view_name": "HBoxView",
            "box_style": "",
            "children": [
              "IPY_MODEL_80a8570e59464811954067391dc29fd9",
              "IPY_MODEL_9bb69162921941b09ea13ce10e0032f9",
              "IPY_MODEL_3b09fc2250c24fc89894daca6f21211b"
            ],
            "layout": "IPY_MODEL_0b50853b53b94d8486009429efd587cb"
          }
        },
        "80a8570e59464811954067391dc29fd9": {
          "model_module": "@jupyter-widgets/controls",
          "model_name": "HTMLModel",
          "model_module_version": "1.5.0",
          "state": {
            "_dom_classes": [],
            "_model_module": "@jupyter-widgets/controls",
            "_model_module_version": "1.5.0",
            "_model_name": "HTMLModel",
            "_view_count": null,
            "_view_module": "@jupyter-widgets/controls",
            "_view_module_version": "1.5.0",
            "_view_name": "HTMLView",
            "description": "",
            "description_tooltip": null,
            "layout": "IPY_MODEL_9f247745758747a3b54e8c42e1eeb69d",
            "placeholder": "​",
            "style": "IPY_MODEL_bdf16f09fb194082bb1d2e91e4d545e2",
            "value": "model.safetensors: 100%"
          }
        },
        "9bb69162921941b09ea13ce10e0032f9": {
          "model_module": "@jupyter-widgets/controls",
          "model_name": "FloatProgressModel",
          "model_module_version": "1.5.0",
          "state": {
            "_dom_classes": [],
            "_model_module": "@jupyter-widgets/controls",
            "_model_module_version": "1.5.0",
            "_model_name": "FloatProgressModel",
            "_view_count": null,
            "_view_module": "@jupyter-widgets/controls",
            "_view_module_version": "1.5.0",
            "_view_name": "ProgressView",
            "bar_style": "success",
            "description": "",
            "description_tooltip": null,
            "layout": "IPY_MODEL_129ddb39e70c409185b803d3468b095a",
            "max": 1625222120,
            "min": 0,
            "orientation": "horizontal",
            "style": "IPY_MODEL_037e394d2276483da186a864f7db246b",
            "value": 1625222120
          }
        },
        "3b09fc2250c24fc89894daca6f21211b": {
          "model_module": "@jupyter-widgets/controls",
          "model_name": "HTMLModel",
          "model_module_version": "1.5.0",
          "state": {
            "_dom_classes": [],
            "_model_module": "@jupyter-widgets/controls",
            "_model_module_version": "1.5.0",
            "_model_name": "HTMLModel",
            "_view_count": null,
            "_view_module": "@jupyter-widgets/controls",
            "_view_module_version": "1.5.0",
            "_view_name": "HTMLView",
            "description": "",
            "description_tooltip": null,
            "layout": "IPY_MODEL_c2fa2b8fc4f444c4a5e732b12470351e",
            "placeholder": "​",
            "style": "IPY_MODEL_03d2a02989a94d6eadd043f80ded0461",
            "value": " 1.63G/1.63G [00:31&lt;00:00, 72.7MB/s]"
          }
        },
        "0b50853b53b94d8486009429efd587cb": {
          "model_module": "@jupyter-widgets/base",
          "model_name": "LayoutModel",
          "model_module_version": "1.2.0",
          "state": {
            "_model_module": "@jupyter-widgets/base",
            "_model_module_version": "1.2.0",
            "_model_name": "LayoutModel",
            "_view_count": null,
            "_view_module": "@jupyter-widgets/base",
            "_view_module_version": "1.2.0",
            "_view_name": "LayoutView",
            "align_content": null,
            "align_items": null,
            "align_self": null,
            "border": null,
            "bottom": null,
            "display": null,
            "flex": null,
            "flex_flow": null,
            "grid_area": null,
            "grid_auto_columns": null,
            "grid_auto_flow": null,
            "grid_auto_rows": null,
            "grid_column": null,
            "grid_gap": null,
            "grid_row": null,
            "grid_template_areas": null,
            "grid_template_columns": null,
            "grid_template_rows": null,
            "height": null,
            "justify_content": null,
            "justify_items": null,
            "left": null,
            "margin": null,
            "max_height": null,
            "max_width": null,
            "min_height": null,
            "min_width": null,
            "object_fit": null,
            "object_position": null,
            "order": null,
            "overflow": null,
            "overflow_x": null,
            "overflow_y": null,
            "padding": null,
            "right": null,
            "top": null,
            "visibility": null,
            "width": null
          }
        },
        "9f247745758747a3b54e8c42e1eeb69d": {
          "model_module": "@jupyter-widgets/base",
          "model_name": "LayoutModel",
          "model_module_version": "1.2.0",
          "state": {
            "_model_module": "@jupyter-widgets/base",
            "_model_module_version": "1.2.0",
            "_model_name": "LayoutModel",
            "_view_count": null,
            "_view_module": "@jupyter-widgets/base",
            "_view_module_version": "1.2.0",
            "_view_name": "LayoutView",
            "align_content": null,
            "align_items": null,
            "align_self": null,
            "border": null,
            "bottom": null,
            "display": null,
            "flex": null,
            "flex_flow": null,
            "grid_area": null,
            "grid_auto_columns": null,
            "grid_auto_flow": null,
            "grid_auto_rows": null,
            "grid_column": null,
            "grid_gap": null,
            "grid_row": null,
            "grid_template_areas": null,
            "grid_template_columns": null,
            "grid_template_rows": null,
            "height": null,
            "justify_content": null,
            "justify_items": null,
            "left": null,
            "margin": null,
            "max_height": null,
            "max_width": null,
            "min_height": null,
            "min_width": null,
            "object_fit": null,
            "object_position": null,
            "order": null,
            "overflow": null,
            "overflow_x": null,
            "overflow_y": null,
            "padding": null,
            "right": null,
            "top": null,
            "visibility": null,
            "width": null
          }
        },
        "bdf16f09fb194082bb1d2e91e4d545e2": {
          "model_module": "@jupyter-widgets/controls",
          "model_name": "DescriptionStyleModel",
          "model_module_version": "1.5.0",
          "state": {
            "_model_module": "@jupyter-widgets/controls",
            "_model_module_version": "1.5.0",
            "_model_name": "DescriptionStyleModel",
            "_view_count": null,
            "_view_module": "@jupyter-widgets/base",
            "_view_module_version": "1.2.0",
            "_view_name": "StyleView",
            "description_width": ""
          }
        },
        "129ddb39e70c409185b803d3468b095a": {
          "model_module": "@jupyter-widgets/base",
          "model_name": "LayoutModel",
          "model_module_version": "1.2.0",
          "state": {
            "_model_module": "@jupyter-widgets/base",
            "_model_module_version": "1.2.0",
            "_model_name": "LayoutModel",
            "_view_count": null,
            "_view_module": "@jupyter-widgets/base",
            "_view_module_version": "1.2.0",
            "_view_name": "LayoutView",
            "align_content": null,
            "align_items": null,
            "align_self": null,
            "border": null,
            "bottom": null,
            "display": null,
            "flex": null,
            "flex_flow": null,
            "grid_area": null,
            "grid_auto_columns": null,
            "grid_auto_flow": null,
            "grid_auto_rows": null,
            "grid_column": null,
            "grid_gap": null,
            "grid_row": null,
            "grid_template_areas": null,
            "grid_template_columns": null,
            "grid_template_rows": null,
            "height": null,
            "justify_content": null,
            "justify_items": null,
            "left": null,
            "margin": null,
            "max_height": null,
            "max_width": null,
            "min_height": null,
            "min_width": null,
            "object_fit": null,
            "object_position": null,
            "order": null,
            "overflow": null,
            "overflow_x": null,
            "overflow_y": null,
            "padding": null,
            "right": null,
            "top": null,
            "visibility": null,
            "width": null
          }
        },
        "037e394d2276483da186a864f7db246b": {
          "model_module": "@jupyter-widgets/controls",
          "model_name": "ProgressStyleModel",
          "model_module_version": "1.5.0",
          "state": {
            "_model_module": "@jupyter-widgets/controls",
            "_model_module_version": "1.5.0",
            "_model_name": "ProgressStyleModel",
            "_view_count": null,
            "_view_module": "@jupyter-widgets/base",
            "_view_module_version": "1.2.0",
            "_view_name": "StyleView",
            "bar_color": null,
            "description_width": ""
          }
        },
        "c2fa2b8fc4f444c4a5e732b12470351e": {
          "model_module": "@jupyter-widgets/base",
          "model_name": "LayoutModel",
          "model_module_version": "1.2.0",
          "state": {
            "_model_module": "@jupyter-widgets/base",
            "_model_module_version": "1.2.0",
            "_model_name": "LayoutModel",
            "_view_count": null,
            "_view_module": "@jupyter-widgets/base",
            "_view_module_version": "1.2.0",
            "_view_name": "LayoutView",
            "align_content": null,
            "align_items": null,
            "align_self": null,
            "border": null,
            "bottom": null,
            "display": null,
            "flex": null,
            "flex_flow": null,
            "grid_area": null,
            "grid_auto_columns": null,
            "grid_auto_flow": null,
            "grid_auto_rows": null,
            "grid_column": null,
            "grid_gap": null,
            "grid_row": null,
            "grid_template_areas": null,
            "grid_template_columns": null,
            "grid_template_rows": null,
            "height": null,
            "justify_content": null,
            "justify_items": null,
            "left": null,
            "margin": null,
            "max_height": null,
            "max_width": null,
            "min_height": null,
            "min_width": null,
            "object_fit": null,
            "object_position": null,
            "order": null,
            "overflow": null,
            "overflow_x": null,
            "overflow_y": null,
            "padding": null,
            "right": null,
            "top": null,
            "visibility": null,
            "width": null
          }
        },
        "03d2a02989a94d6eadd043f80ded0461": {
          "model_module": "@jupyter-widgets/controls",
          "model_name": "DescriptionStyleModel",
          "model_module_version": "1.5.0",
          "state": {
            "_model_module": "@jupyter-widgets/controls",
            "_model_module_version": "1.5.0",
            "_model_name": "DescriptionStyleModel",
            "_view_count": null,
            "_view_module": "@jupyter-widgets/base",
            "_view_module_version": "1.2.0",
            "_view_name": "StyleView",
            "description_width": ""
          }
        },
        "f8f7ab56e2fe4d179636193250b07755": {
          "model_module": "@jupyter-widgets/controls",
          "model_name": "HBoxModel",
          "model_module_version": "1.5.0",
          "state": {
            "_dom_classes": [],
            "_model_module": "@jupyter-widgets/controls",
            "_model_module_version": "1.5.0",
            "_model_name": "HBoxModel",
            "_view_count": null,
            "_view_module": "@jupyter-widgets/controls",
            "_view_module_version": "1.5.0",
            "_view_name": "HBoxView",
            "box_style": "",
            "children": [
              "IPY_MODEL_374d61f0be43449e834098cb8e6e88e2",
              "IPY_MODEL_f705e2e1535c4b8ab293d88b08c5f565",
              "IPY_MODEL_3d3a71852d494dad86b77b588e7cabd0"
            ],
            "layout": "IPY_MODEL_44cc79ee859c4c91a0a03454a0377867"
          }
        },
        "374d61f0be43449e834098cb8e6e88e2": {
          "model_module": "@jupyter-widgets/controls",
          "model_name": "HTMLModel",
          "model_module_version": "1.5.0",
          "state": {
            "_dom_classes": [],
            "_model_module": "@jupyter-widgets/controls",
            "_model_module_version": "1.5.0",
            "_model_name": "HTMLModel",
            "_view_count": null,
            "_view_module": "@jupyter-widgets/controls",
            "_view_module_version": "1.5.0",
            "_view_name": "HTMLView",
            "description": "",
            "description_tooltip": null,
            "layout": "IPY_MODEL_c0360c4b67734ca881570e39a58905d2",
            "placeholder": "​",
            "style": "IPY_MODEL_06ec86170e544a40a9ca6e3f66df463d",
            "value": "generation_config.json: 100%"
          }
        },
        "f705e2e1535c4b8ab293d88b08c5f565": {
          "model_module": "@jupyter-widgets/controls",
          "model_name": "FloatProgressModel",
          "model_module_version": "1.5.0",
          "state": {
            "_dom_classes": [],
            "_model_module": "@jupyter-widgets/controls",
            "_model_module_version": "1.5.0",
            "_model_name": "FloatProgressModel",
            "_view_count": null,
            "_view_module": "@jupyter-widgets/controls",
            "_view_module_version": "1.5.0",
            "_view_name": "ProgressView",
            "bar_style": "success",
            "description": "",
            "description_tooltip": null,
            "layout": "IPY_MODEL_fc75a3c0ba1d4fc6b40bd43a1b5be994",
            "max": 363,
            "min": 0,
            "orientation": "horizontal",
            "style": "IPY_MODEL_a6e6d1dbab5d4b83a9428df46a27c09c",
            "value": 363
          }
        },
        "3d3a71852d494dad86b77b588e7cabd0": {
          "model_module": "@jupyter-widgets/controls",
          "model_name": "HTMLModel",
          "model_module_version": "1.5.0",
          "state": {
            "_dom_classes": [],
            "_model_module": "@jupyter-widgets/controls",
            "_model_module_version": "1.5.0",
            "_model_name": "HTMLModel",
            "_view_count": null,
            "_view_module": "@jupyter-widgets/controls",
            "_view_module_version": "1.5.0",
            "_view_name": "HTMLView",
            "description": "",
            "description_tooltip": null,
            "layout": "IPY_MODEL_234bd3f85f2c4316a8590a5633a4c7a3",
            "placeholder": "​",
            "style": "IPY_MODEL_3c8548e42b464fe8861342dfd969b730",
            "value": " 363/363 [00:00&lt;00:00, 24.7kB/s]"
          }
        },
        "44cc79ee859c4c91a0a03454a0377867": {
          "model_module": "@jupyter-widgets/base",
          "model_name": "LayoutModel",
          "model_module_version": "1.2.0",
          "state": {
            "_model_module": "@jupyter-widgets/base",
            "_model_module_version": "1.2.0",
            "_model_name": "LayoutModel",
            "_view_count": null,
            "_view_module": "@jupyter-widgets/base",
            "_view_module_version": "1.2.0",
            "_view_name": "LayoutView",
            "align_content": null,
            "align_items": null,
            "align_self": null,
            "border": null,
            "bottom": null,
            "display": null,
            "flex": null,
            "flex_flow": null,
            "grid_area": null,
            "grid_auto_columns": null,
            "grid_auto_flow": null,
            "grid_auto_rows": null,
            "grid_column": null,
            "grid_gap": null,
            "grid_row": null,
            "grid_template_areas": null,
            "grid_template_columns": null,
            "grid_template_rows": null,
            "height": null,
            "justify_content": null,
            "justify_items": null,
            "left": null,
            "margin": null,
            "max_height": null,
            "max_width": null,
            "min_height": null,
            "min_width": null,
            "object_fit": null,
            "object_position": null,
            "order": null,
            "overflow": null,
            "overflow_x": null,
            "overflow_y": null,
            "padding": null,
            "right": null,
            "top": null,
            "visibility": null,
            "width": null
          }
        },
        "c0360c4b67734ca881570e39a58905d2": {
          "model_module": "@jupyter-widgets/base",
          "model_name": "LayoutModel",
          "model_module_version": "1.2.0",
          "state": {
            "_model_module": "@jupyter-widgets/base",
            "_model_module_version": "1.2.0",
            "_model_name": "LayoutModel",
            "_view_count": null,
            "_view_module": "@jupyter-widgets/base",
            "_view_module_version": "1.2.0",
            "_view_name": "LayoutView",
            "align_content": null,
            "align_items": null,
            "align_self": null,
            "border": null,
            "bottom": null,
            "display": null,
            "flex": null,
            "flex_flow": null,
            "grid_area": null,
            "grid_auto_columns": null,
            "grid_auto_flow": null,
            "grid_auto_rows": null,
            "grid_column": null,
            "grid_gap": null,
            "grid_row": null,
            "grid_template_areas": null,
            "grid_template_columns": null,
            "grid_template_rows": null,
            "height": null,
            "justify_content": null,
            "justify_items": null,
            "left": null,
            "margin": null,
            "max_height": null,
            "max_width": null,
            "min_height": null,
            "min_width": null,
            "object_fit": null,
            "object_position": null,
            "order": null,
            "overflow": null,
            "overflow_x": null,
            "overflow_y": null,
            "padding": null,
            "right": null,
            "top": null,
            "visibility": null,
            "width": null
          }
        },
        "06ec86170e544a40a9ca6e3f66df463d": {
          "model_module": "@jupyter-widgets/controls",
          "model_name": "DescriptionStyleModel",
          "model_module_version": "1.5.0",
          "state": {
            "_model_module": "@jupyter-widgets/controls",
            "_model_module_version": "1.5.0",
            "_model_name": "DescriptionStyleModel",
            "_view_count": null,
            "_view_module": "@jupyter-widgets/base",
            "_view_module_version": "1.2.0",
            "_view_name": "StyleView",
            "description_width": ""
          }
        },
        "fc75a3c0ba1d4fc6b40bd43a1b5be994": {
          "model_module": "@jupyter-widgets/base",
          "model_name": "LayoutModel",
          "model_module_version": "1.2.0",
          "state": {
            "_model_module": "@jupyter-widgets/base",
            "_model_module_version": "1.2.0",
            "_model_name": "LayoutModel",
            "_view_count": null,
            "_view_module": "@jupyter-widgets/base",
            "_view_module_version": "1.2.0",
            "_view_name": "LayoutView",
            "align_content": null,
            "align_items": null,
            "align_self": null,
            "border": null,
            "bottom": null,
            "display": null,
            "flex": null,
            "flex_flow": null,
            "grid_area": null,
            "grid_auto_columns": null,
            "grid_auto_flow": null,
            "grid_auto_rows": null,
            "grid_column": null,
            "grid_gap": null,
            "grid_row": null,
            "grid_template_areas": null,
            "grid_template_columns": null,
            "grid_template_rows": null,
            "height": null,
            "justify_content": null,
            "justify_items": null,
            "left": null,
            "margin": null,
            "max_height": null,
            "max_width": null,
            "min_height": null,
            "min_width": null,
            "object_fit": null,
            "object_position": null,
            "order": null,
            "overflow": null,
            "overflow_x": null,
            "overflow_y": null,
            "padding": null,
            "right": null,
            "top": null,
            "visibility": null,
            "width": null
          }
        },
        "a6e6d1dbab5d4b83a9428df46a27c09c": {
          "model_module": "@jupyter-widgets/controls",
          "model_name": "ProgressStyleModel",
          "model_module_version": "1.5.0",
          "state": {
            "_model_module": "@jupyter-widgets/controls",
            "_model_module_version": "1.5.0",
            "_model_name": "ProgressStyleModel",
            "_view_count": null,
            "_view_module": "@jupyter-widgets/base",
            "_view_module_version": "1.2.0",
            "_view_name": "StyleView",
            "bar_color": null,
            "description_width": ""
          }
        },
        "234bd3f85f2c4316a8590a5633a4c7a3": {
          "model_module": "@jupyter-widgets/base",
          "model_name": "LayoutModel",
          "model_module_version": "1.2.0",
          "state": {
            "_model_module": "@jupyter-widgets/base",
            "_model_module_version": "1.2.0",
            "_model_name": "LayoutModel",
            "_view_count": null,
            "_view_module": "@jupyter-widgets/base",
            "_view_module_version": "1.2.0",
            "_view_name": "LayoutView",
            "align_content": null,
            "align_items": null,
            "align_self": null,
            "border": null,
            "bottom": null,
            "display": null,
            "flex": null,
            "flex_flow": null,
            "grid_area": null,
            "grid_auto_columns": null,
            "grid_auto_flow": null,
            "grid_auto_rows": null,
            "grid_column": null,
            "grid_gap": null,
            "grid_row": null,
            "grid_template_areas": null,
            "grid_template_columns": null,
            "grid_template_rows": null,
            "height": null,
            "justify_content": null,
            "justify_items": null,
            "left": null,
            "margin": null,
            "max_height": null,
            "max_width": null,
            "min_height": null,
            "min_width": null,
            "object_fit": null,
            "object_position": null,
            "order": null,
            "overflow": null,
            "overflow_x": null,
            "overflow_y": null,
            "padding": null,
            "right": null,
            "top": null,
            "visibility": null,
            "width": null
          }
        },
        "3c8548e42b464fe8861342dfd969b730": {
          "model_module": "@jupyter-widgets/controls",
          "model_name": "DescriptionStyleModel",
          "model_module_version": "1.5.0",
          "state": {
            "_model_module": "@jupyter-widgets/controls",
            "_model_module_version": "1.5.0",
            "_model_name": "DescriptionStyleModel",
            "_view_count": null,
            "_view_module": "@jupyter-widgets/base",
            "_view_module_version": "1.2.0",
            "_view_name": "StyleView",
            "description_width": ""
          }
        }
      }
    }
  },
  "cells": [
    {
      "cell_type": "code",
      "execution_count": 18,
      "metadata": {
        "colab": {
          "base_uri": "https://localhost:8080/"
        },
        "id": "v_Qml3L5vpfc",
        "outputId": "5fecc6fb-8a05-4324-e29d-efa58d220a5b"
      },
      "outputs": [
        {
          "output_type": "stream",
          "name": "stdout",
          "text": [
            "Requirement already satisfied: transformers in /usr/local/lib/python3.10/dist-packages (4.44.2)\n",
            "Requirement already satisfied: pdfplumber in /usr/local/lib/python3.10/dist-packages (0.11.4)\n",
            "Requirement already satisfied: filelock in /usr/local/lib/python3.10/dist-packages (from transformers) (3.16.1)\n",
            "Requirement already satisfied: huggingface-hub<1.0,>=0.23.2 in /usr/local/lib/python3.10/dist-packages (from transformers) (0.24.7)\n",
            "Requirement already satisfied: numpy>=1.17 in /usr/local/lib/python3.10/dist-packages (from transformers) (1.26.4)\n",
            "Requirement already satisfied: packaging>=20.0 in /usr/local/lib/python3.10/dist-packages (from transformers) (24.1)\n",
            "Requirement already satisfied: pyyaml>=5.1 in /usr/local/lib/python3.10/dist-packages (from transformers) (6.0.2)\n",
            "Requirement already satisfied: regex!=2019.12.17 in /usr/local/lib/python3.10/dist-packages (from transformers) (2024.9.11)\n",
            "Requirement already satisfied: requests in /usr/local/lib/python3.10/dist-packages (from transformers) (2.32.3)\n",
            "Requirement already satisfied: safetensors>=0.4.1 in /usr/local/lib/python3.10/dist-packages (from transformers) (0.4.5)\n",
            "Requirement already satisfied: tokenizers<0.20,>=0.19 in /usr/local/lib/python3.10/dist-packages (from transformers) (0.19.1)\n",
            "Requirement already satisfied: tqdm>=4.27 in /usr/local/lib/python3.10/dist-packages (from transformers) (4.66.5)\n",
            "Requirement already satisfied: pdfminer.six==20231228 in /usr/local/lib/python3.10/dist-packages (from pdfplumber) (20231228)\n",
            "Requirement already satisfied: Pillow>=9.1 in /usr/local/lib/python3.10/dist-packages (from pdfplumber) (10.4.0)\n",
            "Requirement already satisfied: pypdfium2>=4.18.0 in /usr/local/lib/python3.10/dist-packages (from pdfplumber) (4.30.0)\n",
            "Requirement already satisfied: charset-normalizer>=2.0.0 in /usr/local/lib/python3.10/dist-packages (from pdfminer.six==20231228->pdfplumber) (3.3.2)\n",
            "Requirement already satisfied: cryptography>=36.0.0 in /usr/local/lib/python3.10/dist-packages (from pdfminer.six==20231228->pdfplumber) (43.0.1)\n",
            "Requirement already satisfied: fsspec>=2023.5.0 in /usr/local/lib/python3.10/dist-packages (from huggingface-hub<1.0,>=0.23.2->transformers) (2024.6.1)\n",
            "Requirement already satisfied: typing-extensions>=3.7.4.3 in /usr/local/lib/python3.10/dist-packages (from huggingface-hub<1.0,>=0.23.2->transformers) (4.12.2)\n",
            "Requirement already satisfied: idna<4,>=2.5 in /usr/local/lib/python3.10/dist-packages (from requests->transformers) (3.10)\n",
            "Requirement already satisfied: urllib3<3,>=1.21.1 in /usr/local/lib/python3.10/dist-packages (from requests->transformers) (2.2.3)\n",
            "Requirement already satisfied: certifi>=2017.4.17 in /usr/local/lib/python3.10/dist-packages (from requests->transformers) (2024.8.30)\n",
            "Requirement already satisfied: cffi>=1.12 in /usr/local/lib/python3.10/dist-packages (from cryptography>=36.0.0->pdfminer.six==20231228->pdfplumber) (1.17.1)\n",
            "Requirement already satisfied: pycparser in /usr/local/lib/python3.10/dist-packages (from cffi>=1.12->cryptography>=36.0.0->pdfminer.six==20231228->pdfplumber) (2.22)\n"
          ]
        }
      ],
      "source": [
        "### PASO 0: Instalación de librerías/bibliotecas\n",
        "\n",
        "!pip install transformers pdfplumber"
      ]
    },
    {
      "cell_type": "code",
      "source": [
        "### PASO 1: Carga de archivo PDF\n",
        "\n",
        "import pdfplumber\n",
        "\n",
        "ruta_pdf = '/content/drive/MyDrive/Portafolio/Resumen_PDFs_BART/Ley31740.pdf'\n",
        "\n",
        "if not ruta_pdf.lower().endswith('.pdf'):\n",
        "    raise ValueError(\"El archivo no es un PDF.\")"
      ],
      "metadata": {
        "id": "7nWncHDgFEt7"
      },
      "execution_count": 19,
      "outputs": []
    },
    {
      "cell_type": "code",
      "source": [
        "### PASO 2: Extracción y limpieza de texto en PDF\n",
        "\n",
        "texto_paginas = []\n",
        "\n",
        "with pdfplumber.open(ruta_pdf) as pdf:\n",
        "    for pagina in pdf.pages:\n",
        "        ancho = pagina.width\n",
        "        alto = pagina.height\n",
        "\n",
        "        columna_izquierda = pagina.within_bbox((0, 0, ancho / 2, alto))\n",
        "        texto_columna_izquierda = columna_izquierda.extract_text()\n",
        "\n",
        "        columna_derecha = pagina.within_bbox((ancho / 2, 0, ancho, alto))\n",
        "        texto_columna_derecha = columna_derecha.extract_text()\n",
        "\n",
        "        if texto_columna_izquierda and texto_columna_derecha:\n",
        "            texto_consolidado = f\"{texto_columna_izquierda}\\n{texto_columna_derecha}\"\n",
        "        elif texto_columna_izquierda:\n",
        "            texto_consolidado = texto_columna_izquierda\n",
        "        elif texto_columna_derecha:\n",
        "            texto_consolidado = texto_columna_derecha\n",
        "\n",
        "        texto_paginas.append(texto_consolidado)\n",
        "\n",
        "texto = \"\\n\".join(texto_paginas)\n",
        "\n",
        "encabezado_pdf = [\"El Peruano / Sábado 13 de mayo de 2023 NORMA\", \"LEGALES Sábado 13 de mayo de 2023/ El Peruano\"]\n",
        "\n",
        "for encabezado in encabezado_pdf:\n",
        "    texto = texto.replace(encabezado, \"\")\n",
        "\n",
        "texto = texto.replace(\"\\n\", \" \")\n",
        "\n",
        "print(texto)"
      ],
      "metadata": {
        "colab": {
          "base_uri": "https://localhost:8080/"
        },
        "id": "xh4uZ61XaaOW",
        "outputId": "d663d402-2ec9-4253-de2e-1cdde07cc568"
      },
      "execution_count": 24,
      "outputs": [
        {
          "output_type": "stream",
          "name": "stdout",
          "text": [
            "4 NORMAS PODER LEGISLATIVO CONGRESO DE LA REPÚBLICA LEY Nº 31740 EL PRESIDENTE DEL CONGRESO DE LA REPÚBLICA POR CUANTO: EL CONGRESO DE LA REPÚBLICA; Ha dado la Ley siguiente: LEY QUE MODIFICA LA LEY 30424, LEY QUE REGULA LA RESPONSABILIDAD ADMINISTRATIVA DE LAS PERSONAS JURÍDICAS, PARA FORTALECER LA NORMATIVA ANTICORRUPCIÓN REFERIDA A LAS PERSONAS JURÍDICAS Y PROMOVER EL BUEN GOBIERNO CORPORATIVO Artículo 1.- Modificación de la Ley 30424, Ley que regula la responsabilidad administrativa de las personas jurídicas Se modifican el título y los artículos 1, 2, 3, 5, 7, 12, 17 y 18 de la Ley 30424, Ley que regula la responsabilidad administrativa de las personas jurídicas, en los siguientes términos: “LEY QUE REGULA LA RESPONSABILIDAD ADMINISTRATIVA DE LAS PERSONAS JURÍDICAS EN EL PROCESO PENAL Artículo 1. Objeto de la Ley La presente ley regula la responsabilidad administrativa de las personas jurídicas nacionales o extranjeras en el proceso penal por los delitos previstos en los artículos: a. 199, 226, 228, 384, 397, 397-A, 398 y 400 del Código Penal. b. 1, 2, 3, 4, 5 y 6 del Decreto Legislativo 1106, Decreto Legislativo de lucha eficaz contra el lavado de activos y otros delitos relacionados a la minería ilegal y el crimen organizado. c. 1, 2, 3, 4, 5, 6, 7, 8 y 10 de la Ley 28008, Ley de los delitos aduaneros. d. 1, 2, 4, 5, 5-A, 5-B, 5-C y 5-D del Decreto Legislativo 813, Ley Penal Tributaria. e. 2, 3, 4, 4-A, 5, 6, 6-A, 6-B y 8 del Decreto Ley 25475, Decreto Ley que establece la penalidad para los delitos de terrorismo y los procedimientos para la investigación, la instrucción y el juicio. El régimen de consecuencias accesorias, previsto en el Código Penal, se aplica a las personas jurídicas involucradas en los delitos no comprendidos en el presente artículo. Artículo 2. Ámbito subjetivo de aplicación Para efectos de la presente ley, son personas jurídicas las entidades de derecho privado, así como las asociaciones, fundaciones, organizaciones no gubernamentales y comités no inscritos, las sociedades irregulares, los entes que administran un patrimonio autónomo y las empresas del Estado peruano o sociedades de economía mixta. En el supuesto de las personas jurídicas extranjeras, será aplicable cuando realicen o desarrollen sus actividades, directa o indirectamente, en el territorio nacional, a través de cualquier modalidad societaria, EGALES Sábado 13 de mayo de 2023/ El Peruano contractual o empresarial, y se cometa alguno de los delitos previstos en el artículo 1. El cambio de nombre, denominación o razón social, reorganización societaria, transformación, escisión, fusión, disolución, liquidación o cualquier acto que pueda afectar la personalidad jurídica de la entidad no impiden la atribución de responsabilidad a la misma. En el caso de una fusión o escisión, la persona jurídica absorbente: (i) solo puede ser sancionada con el pago de una multa, que se calcula teniendo en cuenta las reglas establecidas en los artículos 5 y 7, según corresponda, y en función al patrimonio transferido, siempre que el delito haya sido cometido antes de la fusión o escisión, salvo que las personas jurídicas involucradas hayan utilizado estas formas de reorganización societaria con el propósito de eludir una eventual responsabilidad administrativa de la persona jurídica fusionada o escindida, en cuyo caso no opera este supuesto; y (ii) no incurre en responsabilidad administrativa cuando ha realizado un adecuado proceso de debida diligencia, previo al proceso de fusión o escisión. Se entiende que se cumple con la debida diligencia cuando se verifique la adopción de acciones razonables orientadas a verificar que la persona jurídica fusionada o escindida no ha incurrido en la comisión de cualquiera de los delitos previstos en el artículo 1. Artículo 3. Responsabilidad administrativa de las personas jurídicas Las personas jurídicas son responsables administrativamente por los delitos señalados en el artículo 1, cuando estos hayan sido cometidos en su nombre o por cuenta de ellas y en su beneficio, directo o indirecto, por: a. Sus socios, directores, administradores de hecho o derecho, representantes legales o apoderados de la persona jurídica, o de sus filiales o subsidiarias, bajo cualquiera de las modalidades de autoría y participación previstas en el Código Penal. b. La persona natural que, estando sometida a la autoridad y control de las personas mencionadas en el literal anterior, haya cometido el delito bajo sus órdenes o autorización. c. La persona natural señalada en el literal precedente, cuando la comisión del delito haya sido posible porque las personas mencionadas en el literal a. han incumplido sus deberes de supervisión, vigilancia y control sobre la actividad encomendada, en atención a la situación concreta del caso. Las personas jurídicas que tengan la calidad de matrices serán responsables y sancionadas siempre que las personas naturales de sus filiales o subsidiarias, que incurran en cualquiera de las conductas señaladas en el primer párrafo, hayan actuado bajo sus órdenes, autorización o con su consentimiento. Las personas jurídicas no son responsables en los casos en que las personas naturales indicadas en el primer párrafo hubiesen cometido los delitos previstos en el artículo 1, exclusivamente en beneficio propio o a favor de un tercero distinto a la persona jurídica. Artículo 5. Medidas administrativas aplicables El juez, a requerimiento del Ministerio Público, impone, según corresponda, las siguientes medidas administrativas contra las personas jurídicas que resulten responsables de la comisión de los delitos previstos en el artículo 1: a. Multa, conforme al artículo 7 de la presente ley. b. Inhabilitación, en cualquiera de las siguientes modalidades: 1. Suspensión de sus actividades sociales por un plazo no menor de seis meses ni mayor de dos años.  2. Prohibición de llevar a cabo en el futuro actividades de la misma clase o naturaleza de aquellas en cuya realización se haya cometido, favorecido o encubierto el delito. La prohibición podrá tener carácter temporal o definitivo. La prohibición temporal no será menor de un año ni mayor de cinco años. 3. Para contratar con el Estado de carácter definitivo. c. Cancelación de licencias, concesiones, derechos y otras autorizaciones administrativas o municipales. d. Clausura de sus locales o establecimientos, con carácter temporal o definitivo. La clausura temporal es no menor de un año ni mayor de cinco años. e. Disolución. Artículo 7. Multa La multa se calcula de la siguiente manera: 1. Cuando se pueda determinar el monto del beneficio obtenido o que se esperaba obtener con la comisión del delito, la multa es no menor al doble ni mayor al séxtuplo de dicho monto. 2. Cuando no se pueda determinar el monto del beneficio obtenido o que se esperaba obtener con la comisión del delito, la multa es no menor de diez (10) ni mayor de diez mil (10 000) unidades impositivas tributarias (UIT). Los jueces imponen la multa, de forma motivada, atendiendo a los siguientes criterios de fundamentación y determinación, según corresponda: 1. El incumplimiento de reglas y procedimientos internos. 2. La cantidad y jerarquía de los funcionarios, empleados y colaboradores involucrados en el delito. 3. La omisión de vigilancia sobre la actividad de los autores y partícipes. 4. La extensión del daño causado. 5. El monto de dinero involucrado en la comisión del delito. 6. El tamaño, la naturaleza y la capacidad económica de la persona jurídica. 7. La denuncia espontánea a las autoridades por parte de la persona jurídica como consecuencia de una actividad propia de detección o investigación interna. 8. El comportamiento posterior a la comisión del delito. 9. La disposición para mitigar o reparar el daño. La multa debe ser pagada dentro de los diez días hábiles de pronunciada la sentencia que tenga la calidad de consentida o ejecutoriada. A solicitud de la persona jurídica y cuando el pago del monto de la multa pueda poner en riesgo su continuidad o el mantenimiento de los puestos de trabajo o cuando sea aconsejable por el interés general, el juez autoriza que el pago se efectúe en cuotas mensuales, dentro de un límite que no exceda de treinta y seis meses. En caso de que la persona jurídica no cumpla con el pago de la multa impuesta, esta puede ser ejecutada sobre sus bienes o convertida, previo requerimiento judicial, en la medida de prohibición de actividades de manera definitiva, prevista en el numeral 2 del literal b) del artículo 5. Artículo 12. Eximente y circunstancias atenuantes La persona jurídica está exenta de responsabilidad por la comisión de los delitos comprendidos en el artículo 1 si adopta e implementa en su organización, con anterioridad a la comisión del delito, un modelo de prevención adecuado a su naturaleza, riesgos, necesidades y características, consistente en medidas de vigilancia y control idóneas para prevenir los delitos antes mencionados o para reducir significativamente el riesgo de su comisión. LEGALES 5 Es inaplicable la referida eximente cuando el delito es cometido por los socios, directores, administradores de hecho o derecho, representantes legales o apoderados, con capacidad de control de la persona jurídica; en este caso, el juez únicamente impone la medida administrativa de multa, la que puede ser reducida hasta en un noventa por ciento. Son circunstancias atenuantes de la responsabilidad administrativa de las personas jurídicas las siguientes: a. La colaboración objetiva, sustancial y decisiva en el esclarecimiento del hecho delictivo, hasta antes del inicio de la etapa intermedia. b. El impedimento de las consecuencias dañosas del ilícito. c. La reparación total o parcial del daño. d. La adopción e implementación por parte de la persona jurídica, después de la comisión del delito y antes del inicio del juicio oral, de un modelo de prevención. e. La acreditación parcial de los elementos mínimos del modelo de prevención. La confesión, debidamente corroborada, de la comisión del delito, con anterioridad a la formalización de la investigación preparatoria, tiene como efecto que el juez pueda rebajar la medida establecida en los literales a), b) y d) del artículo 5 hasta un tercio por debajo del mínimo legal establecido, cuando se trate de medidas temporales. Este supuesto es inaplicable en caso de flagrancia, irrelevancia de la admisión de los cargos en atención a los elementos probatorios incorporados en el proceso o cuando se haya configurado la reincidencia de acuerdo con el segundo párrafo del artículo 13. Artículo 17. Implementación del modelo de prevención 17.1. La persona jurídica elabora su modelo de prevención en base a su perfil de riesgo que identifica y evalúa los riesgos inherentes y residuales, conforme a su tamaño, naturaleza, características y complejidad de sus operaciones. 17.2. El modelo de prevención debe contar con los siguientes elementos mínimos: 17.2.1. Un encargado de prevención, designado por el máximo órgano de administración de la persona jurídica o quien haga sus veces, según corresponda, que debe ejercer su función con autonomía. Tratándose de las micro, pequeña y mediana empresas, el rol de encargado de prevención puede ser asumido directamente por el órgano de administración. 17.2.2. Acciones de mitigación de riesgos identificados. 17.2.3. Implementación de procedimientos de denuncia. 17.2.4. Difusión y capacitación periódica del modelo de prevención. 17.2.5. Evaluación y monitoreo continuo del modelo de prevención. 17.3. La persona jurídica, en el ejercicio de su autorregulación, puede implementar o incorporar a su modelo de prevención, cualquier otro elemento conforme a su perfil de riesgos y diseñar los mecanismos que resulten necesarios. En el caso de la micro, pequeña y mediana empresa, el modelo de prevención será acotado a su naturaleza y características. 17.4. En el caso de las empresas del Estado o sociedades de economía mixta, el modelo de prevención se ejerce sin perjuicio de las competencias y potestades que corresponden a los órganos conformantes del Sistema Nacional de Control. 17.5. El contenido del modelo de prevención se desarrolla en el reglamento de la presente ley. 6 NORMAS Artículo 18. Emisión del informe técnico sobre el modelo de prevención El fiscal para formalizar la investigación preparatoria, siempre que la persona jurídica alegue contar con un modelo de prevención, debe contar con un informe técnico de la Superintendencia del Mercado de Valores (SMV) que analice la implementación y funcionamiento del modelo de prevención con relación al delito imputado a la persona natural. El informe técnico tiene la condición de pericia institucional. La persona jurídica que alegue contar con un modelo de prevención debe brindar la información y documentación respectiva, así como las facilidades necesarias a la Superintendencia del Mercado de Valores, para que emita el informe técnico. Al momento de elaborar el informe técnico se tienen en cuenta los estándares internacionales sobre el modelo de prevención y las buenas prácticas en el gobierno corporativo. La Superintendencia del Mercado de Valores emite el informe técnico en el plazo de 90 días, computados desde el día siguiente de la recepción de la solicitud. De manera excepcional, este plazo puede extenderse por un período igual en función a la complejidad del caso, tamaño y ubicación de la persona jurídica, u otras condiciones o particularidades”. Artículo 2.- Incorporación de artículos en la Ley 30424, Ley que regula la responsabilidad administrativa de las personas jurídicas en el proceso penal Se incorporan los artículos 19, 20, 21 y 22 a la Ley 30424, Ley que regula la responsabilidad administrativa de las personas jurídicas en el proceso penal, con la siguiente redacción: “Artículo 19. Valoración del informe técnico El informe técnico emitido por la Superintendencia del Mercado de Valores es valorado por el fiscal y el juez junto con los demás elementos probatorios incorporados en la investigación o el proceso. Artículo 20. Confidencialidad de la información y documentación sobre el modelo de prevención La información y documentación que proporcione la persona jurídica con la finalidad de acreditar la implementación y funcionamiento de su modelo de prevención son de carácter confidencial. Artículo 21. Facultades de la Superintendencia del Mercado de Valores A fin de emitir el informe técnico sobre la implementación y funcionamiento del modelo de prevención, la Superintendencia del Mercado de Valores queda facultada para: 1. Requerir a la persona jurídica la información y documentación necesaria sobre su modelo de prevención. 2. Realizar visitas de evaluación del modelo de prevención a la persona jurídica, tomar declaraciones al personal que labora en esta y a los terceros con los que mantenga o hubiere mantenido una relación comercial o contractual, así como a cualquier otro cuya declaración o aporte coadyuve a los efectos de la emisión del informe técnico, lo que queda plasmado en soporte físico o digital. Cuando la persona jurídica no entregue la información o documentación en el plazo establecido en el reglamento o se niegue a colaborar en las visitas de evaluación, la Superintendencia del Mercado de Valores emite un informe indicando dicha situación y la imposibilidad de concluir la implementación o funcionamiento del modelo de prevención. Artículo 22. Intercambio de información Cuando el delito imputado a la persona natural sea lavado de activos o financiamiento al terrorismo, la Superintendencia del Mercado de Valores y el EGALES Sábado 13 de mayo de 2023/ El Peruano supervisor competente en materia de prevención de lavado de activos y financiamiento al terrorismo pueden intercambiar información referida al modelo de prevención y el sistema de prevención de lavado de activos y financiamiento al terrorismo, respectivamente, con la finalidad de elaborar el informe técnico señalado en el artículo 18 de la presente ley”. DISPOSICIONES COMPLEMENTARIAS FINALES PRIMERA. Adecuación del Reglamento de la Ley 30424 El Poder Ejecutivo, a propuesta del Ministerio de Justicia y Derechos Humanos y del Ministerio de Economía y Finanzas, en un plazo no mayor de sesenta (60) días calendario, contado a partir del día siguiente de la publicación de la presente norma, adecuará el Reglamento de la Ley 30424, aprobado por el Decreto Supremo 002-2019-JUS, a lo dispuesto en la presente ley. SEGUNDA. Vigencia de artículos de la Ley El artículo 1 de la Ley 30424, modificado por el artículo 1 de la presente ley y la disposición complementaria derogatoria única de la presente ley entrarán en vigencia a los seis (6) meses de su publicación. DISPOSICIÓN COMPLEMENTARIA DEROGATORIA ÚNICA. Norma derogatoria Se derogan el artículo 11 de la Ley 28008, Ley de los delitos aduaneros, y el artículo 17 del Decreto Legislativo 813, Ley Penal Tributaria. POR TANTO: Habiendo sido reconsiderada la Ley por el Congreso de la República, insistiendo en el texto aprobado en sesión del Pleno realizada el día dos de junio de dos mil veintidós, de conformidad con lo dispuesto por el artículo 108 de la Constitución Política del Perú, ordeno que se publique y cumpla. En Lima, a los doce días del mes de mayo de dos mil veintitrés. JOSÉ DANIEL WILLIAMS ZAPATA Presidente del Congreso de la República MARTHA LUPE MOYANO DELGADO Primera Vicepresidenta del Congreso de la República 2177547-1 PODER EJECUTIVO COMERCIO EXTERIOR Y TURISMO Autorizan viaje de representante de PROMPERÚ para participar en eventos a realizarse en la Mancomunidad de Australia RESOLUCIÓN MINISTERIAL N° 140-2023-MINCETUR Lima, 5 de mayo de 2023 VISTO, el Oficio N° 000365-2023-PROMPERÚ/PE de la Presidencia Ejecutiva de la Comisión de Promoción del Perú para la Exportación y el Turismo – PROMPERÚ; y, CONSIDERANDO: Que, la Comisión de Promoción del Perú para la Exportación y el Turismo – PROMPERÚ, es un organismo\n"
          ]
        }
      ]
    },
    {
      "cell_type": "code",
      "source": [
        "### PASO 3: Tokenización de textos\n",
        "\n",
        "from transformers import AutoTokenizer\n",
        "\n",
        "tokenizador = AutoTokenizer.from_pretrained(\"Helsinki-NLP/opus-mt-es-en\")\n",
        "tokens = tokenizador.encode(texto, return_tensors='pt')\n",
        "\n",
        "numero_de_tokens = tokens.shape[1]"
      ],
      "metadata": {
        "colab": {
          "base_uri": "https://localhost:8080/"
        },
        "id": "B_C2xDWbkCke",
        "outputId": "1fec9f39-5bda-4c09-c665-6f829154635f"
      },
      "execution_count": 25,
      "outputs": [
        {
          "output_type": "stream",
          "name": "stderr",
          "text": [
            "/usr/local/lib/python3.10/dist-packages/transformers/tokenization_utils_base.py:1601: FutureWarning: `clean_up_tokenization_spaces` was not set. It will be set to `True` by default. This behavior will be depracted in transformers v4.45, and will be then set to `False` by default. For more details check this issue: https://github.com/huggingface/transformers/issues/31884\n",
            "  warnings.warn(\n",
            "Token indices sequence length is longer than the specified maximum sequence length for this model (3576 > 512). Running this sequence through the model will result in indexing errors\n"
          ]
        }
      ]
    },
    {
      "cell_type": "code",
      "source": [
        "### PASO 4: Fragmentación de tokens\n",
        "\n",
        "from transformers import AutoTokenizer\n",
        "\n",
        "tokenizador = AutoTokenizer.from_pretrained(\"Helsinki-NLP/opus-mt-es-en\")\n",
        "\n",
        "tokens = tokenizador.encode(texto, truncation=False)\n",
        "cantidad_tokens = len(tokens)\n",
        "limite_tokens = 458 #Considerando el 90% del límite: 512\n",
        "\n",
        "print(\"Cantidad de tokens: \" + str(cantidad_tokens))\n",
        "\n",
        "numero_fragmentos = (cantidad_tokens + limite_tokens - 1) // limite_tokens\n",
        "\n",
        "fragmentos = []\n",
        "cant_tokens_fragmentos = []\n",
        "\n",
        "for i in range(0, cantidad_tokens, limite_tokens):\n",
        "    fragmento_tokens = tokens[i:i + limite_tokens]\n",
        "    fragmento = tokenizador.decode(fragmento_tokens, skip_special_tokens=True)\n",
        "    fragmentos.append(fragmento)\n",
        "    cant_tokens_fragmentos.append(len(fragmento_tokens))\n",
        "\n",
        "print(\"Número de fragmentos necesarios:\", numero_fragmentos)\n",
        "for idx, (fragmento, cantidad) in enumerate(zip(fragmentos, cant_tokens_fragmentos)):\n",
        "    print(f\"Fragmento {idx + 1} (Cantidad de tokens: {cantidad}):\\n{fragmento}\\n\")"
      ],
      "metadata": {
        "colab": {
          "base_uri": "https://localhost:8080/"
        },
        "id": "Nw7S-hcgdUTF",
        "outputId": "88ddd9e9-0eb1-4388-9b06-23d39e410751"
      },
      "execution_count": 27,
      "outputs": [
        {
          "output_type": "stream",
          "name": "stderr",
          "text": [
            "Token indices sequence length is longer than the specified maximum sequence length for this model (3576 > 512). Running this sequence through the model will result in indexing errors\n"
          ]
        },
        {
          "output_type": "stream",
          "name": "stdout",
          "text": [
            "Cantidad de tokens: 3576\n",
            "Número de fragmentos necesarios: 8\n",
            "Fragmento 1 (Cantidad de tokens: 458):\n",
            "4 NORMAS PODER LEGISLATIVO CONGRESO DE LA REPÚBLICA LEY No 31740 EL PRESIDENTE DEL CONGRESO DE LA REPÚBLICA POR CUANTO: EL CONGRESO DE LA REPÚBLICA; Ha dado la Ley siguiente: LEY QUE MODIFICA LA LEY 30424, LEY QUE REGULA LA RESPONSABILIDAD ADMINISTRATIVA DE LAS PERSONAS JURÍDICAS, PARA FORTALECER LA NORMATIVA ANTICORRUPCIÓN REFERIDA A LAS PERSONAS JURÍDICAS Y PROMOVER EL BUEN GOBIERNO CORPORATIVO Artículo 1.- Modificación de la Ley 30424, Ley que regula la responsabilidad administrativa de las personas jurídicas Se modifican el título y los artículos 1, 2, 3, 5, 7, 12, 17 y 18 de la Ley 30424, Ley que regula la responsabilidad administrativa de las personas jurídicas, en los siguientes términos: “LEY QUE REGULA LA RESPONSABILIDAD ADMINISTRATIVA DE LAS PERSONAS JURÍDICAS EN EL PROCESO PENAL Artículo 1. Objeto de la Ley La presente ley regula la responsabilidad administrativa de las personas jurídicas nacionales o extranjeras en el proceso penal por los delitos previstos en los artículos: a. 199, 226, 228, 384, 397, 397-A, 398 y 400 del Código Penal. b. 1, 2, 3, 4, 5 y 6 del Decreto Legislativo 1106, Decreto Legislativo de lucha eficaz contra el lavado de activos y otros delitos relacionados a la minería ilegal y el crimen organizado. c. 1, 2, 3, 4, 5, 6, 7, 8 y 10 de la Ley 28008, Ley de los delitos aduaneros. d. 1, 2, 4, 5, 5-A, 5-B, 5-C y 5-D del Decreto Legislativo 813, Ley Penal Tributaria. e. 2, 3, 4, 4-A, 5, 6, 6-A, 6-B y 8 del Decreto Ley 25475, Decreto Ley que establece la penalidad para los delitos de terrorismo y los procedimientos para la investigación, la instrucción y el juicio. El régimen de consecuencias accesorias, previsto en el Código Penal, se aplica a las\n",
            "\n",
            "Fragmento 2 (Cantidad de tokens: 458):\n",
            "personas jurídicas involucradas en los delitos no comprendidos en el presente artículo. Artículo 2. Ámbito subjetivo de aplicación Para efectos de la presente ley, son personas jurídicas las entidades de derecho privado, así como las asociaciones, fundaciones, organizaciones no gubernamentales y comités no inscritos, las sociedades irregulares, los entes que administran un patrimonio autónomo y las empresas del Estado peruano o sociedades de economía mixta. En el supuesto de las personas jurídicas extranjeras, será aplicable cuando realicen o desarrollen sus actividades, directa o indirectamente, en el territorio nacional, a través de cualquier modalidad societaria, EGALES Sábado 13 de mayo de 2023/ El Peruano contractual o empresarial, y se cometa alguno de los delitos previstos en el artículo 1. El cambio de nombre, denominación o razón social, reorganización societaria, transformación, escisión, fusión, disolución, liquidación o cualquier acto que pueda afectar la personalidad jurídica de la entidad no impiden la atribución de responsabilidad a la misma. En el caso de una fusión o escisión, la persona jurídica absorbente: (i) solo puede ser sancionada con el pago de una multa, que se calcula teniendo en cuenta las reglas establecidas en los artículos 5 y 7, según corresponda, y en función al patrimonio transferido, siempre que el delito haya sido cometido antes de la fusión o escisión, salvo que las personas jurídicas involucradas hayan utilizado estas formas de reorganización societaria con el propósito de eludir una eventual responsabilidad administrativa de la persona jurídica fusionada o escindida, en cuyo caso no opera este supuesto; y (ii) no incurre en responsabilidad administrativa cuando ha realizado un adecuado proceso de debida diligencia, previo al proceso de fusión o escisión. Se entiende que se cumple con la debida diligencia cuando se verifique la adopción de acciones razonables orientadas a verificar que la persona jurídica fusionada o escindida no ha incurrido en la comisión de cualquiera de los delitos previstos en el artículo 1. Artículo 3. Responsabilidad administrativa de las personas jurídicas Las personas jurídicas son responsables administrativamente por los delitos señalados en el artículo 1, cuando estos hayan sido cometidos en su nombre o por cuenta de ellas y en su beneficio, directo o indirecto, por: a. Sus socios, directores, administradores de hecho o derecho, representantes legales o apoderados de la persona jurídica, o de sus filiales o subsidiarias, bajo cualquiera de las\n",
            "\n",
            "Fragmento 3 (Cantidad de tokens: 458):\n",
            "modalidades de autoría y participación previstas en el Código Penal. b. La persona natural que, estando sometida a la autoridad y control de las personas mencionadas en el literal anterior, haya cometido el delito bajo sus órdenes o autorización. c. La persona natural señalada en el literal precedente, cuando la comisión del delito haya sido posible porque las personas mencionadas en el literal a. han incumplido sus deberes de supervisión, vigilancia y control sobre la actividad encomendada, en atención a la situación concreta del caso. Las personas jurídicas que tengan la calidad de matrices serán responsables y sancionadas siempre que las personas naturales de sus filiales o subsidiarias, que incurran en cualquiera de las conductas señaladas en el primer párrafo, hayan actuado bajo sus órdenes, autorización o con su consentimiento. Las personas jurídicas no son responsables en los casos en que las personas naturales indicadas en el primer párrafo hubiesen cometido los delitos previstos en el artículo 1, exclusivamente en beneficio propio o a favor de un tercero distinto a la persona jurídica. Artículo 5. Medidas administrativas aplicables El juez, a requerimiento del Ministerio Público, impone, según corresponda, las siguientes medidas administrativas contra las personas jurídicas que resulten responsables de la comisión de los delitos previstos en el artículo 1: a. Multa, conforme al artículo 7 de la presente ley. b. Inhabilitación, en cualquiera de las siguientes modalidades: 1. Suspensión de sus actividades sociales por un plazo no menor de seis meses ni mayor de dos años. 2. Prohibición de llevar a cabo en el futuro actividades de la misma clase o naturaleza de aquellas en cuya realización se haya cometido, favorecido o encubierto el delito. La prohibición podrá tener carácter temporal o definitivo. La prohibición temporal no será menor de un año ni mayor de cinco años. 3. Para contratar con el Estado de carácter definitivo. c. Cancelación de licencias, concesiones, derechos y otras autorizaciones administrativas o municipales. d. Clausura de sus locales o establecimientos, con carácter temporal o definitivo. La clausura temporal es no menor de un año ni mayor de cinco años. e. Disolución. Artículo 7. Multa La multa se calcula de la siguiente manera: 1. Cuando se pueda determinar el monto del beneficio obtenido o que se esperaba obtener con la comisión del delito, la multa es no menor al doble ni mayor al séxtuplo de\n",
            "\n",
            "Fragmento 4 (Cantidad de tokens: 458):\n",
            "dicho monto. 2. Cuando no se pueda determinar el monto del beneficio obtenido o que se esperaba obtener con la comisión del delito, la multa es no menor de diez (10) ni mayor de diez mil (10 000) unidades impositivas tributarias (UIT). Los jueces imponen la multa, de forma motivada, atendiendo a los siguientes criterios de fundamentación y determinación, según corresponda: 1. El incumplimiento de reglas y procedimientos internos. 2. La cantidad y jerarquía de los funcionarios, empleados y colaboradores involucrados en el delito. 3. La omisión de vigilancia sobre la actividad de los autores y partícipes. 4. La extensión del daño causado. 5. El monto de dinero involucrado en la comisión del delito. 6. El tamaño, la naturaleza y la capacidad económica de la persona jurídica. 7. La denuncia espontánea a las autoridades por parte de la persona jurídica como consecuencia de una actividad propia de detección o investigación interna. 8. El comportamiento posterior a la comisión del delito. 9. La disposición para mitigar o reparar el daño. La multa debe ser pagada dentro de los diez días hábiles de pronunciada la sentencia que tenga la calidad de consentida o ejecutoriada. A solicitud de la persona jurídica y cuando el pago del monto de la multa pueda poner en riesgo su continuidad o el mantenimiento de los puestos de trabajo o cuando sea aconsejable por el interés general, el juez autoriza que el pago se efectúe en cuotas mensuales, dentro de un límite que no exceda de treinta y seis meses. En caso de que la persona jurídica no cumpla con el pago de la multa impuesta, esta puede ser ejecutada sobre sus bienes o convertida, previo requerimiento judicial, en la medida de prohibición de actividades de manera definitiva, prevista en el numeral 2 del literal b) del artículo 5. Artículo 12. Eximente y circunstancias atenuantes La persona jurídica está exenta de responsabilidad por la comisión de los delitos comprendidos en el artículo 1 si adopta e implementa en su organización, con anterioridad a la comisión del delito, un modelo de prevención adecuado a su naturaleza, riesgos, necesidades y características, consistente en medidas de vigilancia y control idóneas para prevenir los delitos antes mencionados o para reducir significativamente el riesgo de su comisión. LEGALES 5 Es inaplicable la referida eximente cuando el delito es cometido por los socios, directores, administradores de hecho\n",
            "\n",
            "Fragmento 5 (Cantidad de tokens: 458):\n",
            "o derecho, representantes legales o apoderados, con capacidad de control de la persona jurídica; en este caso, el juez únicamente impone la medida administrativa de multa, la que puede ser reducida hasta en un noventa por ciento. Son circunstancias atenuantes de la responsabilidad administrativa de las personas jurídicas las siguientes: a. La colaboración objetiva, sustancial y decisiva en el esclarecimiento del hecho delictivo, hasta antes del inicio de la etapa intermedia. b. El impedimento de las consecuencias dañosas del ilícito. c. La reparación total o parcial del daño. d. La adopción e implementación por parte de la persona jurídica, después de la comisión del delito y antes del inicio del juicio oral, de un modelo de prevención. e. La acreditación parcial de los elementos mínimos del modelo de prevención. La confesión, debidamente corroborada, de la comisión del delito, con anterioridad a la formalización de la investigación preparatoria, tiene como efecto que el juez pueda rebajar la medida establecida en los literales a), b) y d) del artículo 5 hasta un tercio por debajo del mínimo legal establecido, cuando se trate de medidas temporales. Este supuesto es inaplicable en caso de flagrancia, irrelevancia de la admisión de los cargos en atención a los elementos probatorios incorporados en el proceso o cuando se haya configurado la reincidencia de acuerdo con el segundo párrafo del artículo 13. Artículo 17. Implementación del modelo de prevención 17.1. La persona jurídica elabora su modelo de prevención en base a su perfil de riesgo que identifica y evalúa los riesgos inherentes y residuales, conforme a su tamaño, naturaleza, características y complejidad de sus operaciones. 17.2. El modelo de prevención debe contar con los siguientes elementos mínimos: 17.2.1. Un encargado de prevención, designado por el máximo órgano de administración de la persona jurídica o quien haga sus veces, según corresponda, que debe ejercer su función con autonomía. Tratándose de las micro, pequeña y mediana empresas, el rol de encargado de prevención puede ser asumido directamente por el órgano de administración. 17.2.2. Acciones de mitigación de riesgos identificados. 17.2.3. Implementación de procedimientos de denuncia. 17.2.4. Difusión y capacitación periódica del modelo de prevención. 17.2.5. Evaluación y monitoreo continuo del modelo de prevención. 17.3. La persona jurídica\n",
            "\n",
            "Fragmento 6 (Cantidad de tokens: 458):\n",
            ", en el ejercicio de su autorregulación, puede implementar o incorporar a su modelo de prevención, cualquier otro elemento conforme a su perfil de riesgos y diseñar los mecanismos que resulten necesarios. En el caso de la micro, pequeña y mediana empresa, el modelo de prevención será acotado a su naturaleza y características. 17.4. En el caso de las empresas del Estado o sociedades de economía mixta, el modelo de prevención se ejerce sin perjuicio de las competencias y potestades que corresponden a los órganos conformantes del Sistema Nacional de Control. 17.5. El contenido del modelo de prevención se desarrolla en el reglamento de la presente ley. 6 NORMAS Artículo 18. Emisión del informe técnico sobre el modelo de prevención El fiscal para formalizar la investigación preparatoria, siempre que la persona jurídica alegue contar con un modelo de prevención, debe contar con un informe técnico de la Superintendencia del Mercado de Valores (SMV) que analice la implementación y funcionamiento del modelo de prevención con relación al delito imputado a la persona natural. El informe técnico tiene la condición de pericia institucional. La persona jurídica que alegue contar con un modelo de prevención debe brindar la información y documentación respectiva, así como las facilidades necesarias a la Superintendencia del Mercado de Valores, para que emita el informe técnico. Al momento de elaborar el informe técnico se tienen en cuenta los estándares internacionales sobre el modelo de prevención y las buenas prácticas en el gobierno corporativo. La Superintendencia del Mercado de Valores emite el informe técnico en el plazo de 90 días, computados desde el día siguiente de la recepción de la solicitud. De manera excepcional, este plazo puede extenderse por un período igual en función a la complejidad del caso, tamaño y ubicación de la persona jurídica, u otras condiciones o particularidades”. Artículo 2.- Incorporación de artículos en la Ley 30424, Ley que regula la responsabilidad administrativa de las personas jurídicas en el proceso penal Se incorporan los artículos 19, 20, 21 y 22 a la Ley 30424, Ley que regula la responsabilidad administrativa de las personas jurídicas en el proceso penal, con la siguiente redacción: “Artículo 19. Valoración del informe técnico El informe técnico emitido por la Superintendencia del Mercado de Valores es valorado por el fiscal y el juez junto con los demás elementos probatorios incorporado\n",
            "\n",
            "Fragmento 7 (Cantidad de tokens: 458):\n",
            "s en la investigación o el proceso. Artículo 20. Confidencialidad de la información y documentación sobre el modelo de prevención La información y documentación que proporcione la persona jurídica con la finalidad de acreditar la implementación y funcionamiento de su modelo de prevención son de carácter confidencial. Artículo 21. Facultades de la Superintendencia del Mercado de Valores A fin de emitir el informe técnico sobre la implementación y funcionamiento del modelo de prevención, la Superintendencia del Mercado de Valores queda facultada para: 1. Requerir a la persona jurídica la información y documentación necesaria sobre su modelo de prevención. 2. Realizar visitas de evaluación del modelo de prevención a la persona jurídica, tomar declaraciones al personal que labora en esta y a los terceros con los que mantenga o hubiere mantenido una relación comercial o contractual, así como a cualquier otro cuya declaración o aporte coadyuve a los efectos de la emisión del informe técnico, lo que queda plasmado en soporte físico o digital. Cuando la persona jurídica no entregue la información o documentación en el plazo establecido en el reglamento o se niegue a colaborar en las visitas de evaluación, la Superintendencia del Mercado de Valores emite un informe indicando dicha situación y la imposibilidad de concluir la implementación o funcionamiento del modelo de prevención. Artículo 22. Intercambio de información Cuando el delito imputado a la persona natural sea lavado de activos o financiamiento al terrorismo, la Superintendencia del Mercado de Valores y el EGALES Sábado 13 de mayo de 2023/ El Peruano supervisor competente en materia de prevención de lavado de activos y financiamiento al terrorismo pueden intercambiar información referida al modelo de prevención y el sistema de prevención de lavado de activos y financiamiento al terrorismo, respectivamente, con la finalidad de elaborar el informe técnico señalado en el artículo 18 de la presente ley”. DISPOSICIONES COMPLEMENTARIAS FINALES PRIMERA. Adecuación del Reglamento de la Ley 30424 El Poder Ejecutivo, a propuesta del Ministerio de Justicia y Derechos Humanos y del Ministerio de Economía y Finanzas, en un plazo no mayor de sesenta (60) días calendario, contado a partir del día siguiente de la publicación de la presente norma, adecuará el Reglamento de la Ley 30424, aprobado por el Decreto Supremo 002-2019-JUS, a lo dispuesto en la presente ley. SEG\n",
            "\n",
            "Fragmento 8 (Cantidad de tokens: 370):\n",
            "UNDA. Vigencia de artículos de la Ley El artículo 1 de la Ley 30424, modificado por el artículo 1 de la presente ley y la disposición complementaria derogatoria única de la presente ley entrarán en vigencia a los seis (6) meses de su publicación. DISPOSICIÓN COMPLEMENTARIA DEROGATORIA ÚNICA. Norma derogatoria Se derogan el artículo 11 de la Ley 28008, Ley de los delitos aduaneros, y el artículo 17 del Decreto Legislativo 813, Ley Penal Tributaria. POR TANTO: Habiendo sido reconsiderada la Ley por el Congreso de la República, insistiendo en el texto aprobado en sesión del Pleno realizada el día dos de junio de dos mil veintidós, de conformidad con lo dispuesto por el artículo 108 de la Constitución Política del Perú, ordeno que se publique y cumpla. En Lima, a los doce días del mes de mayo de dos mil veintitrés. JOSÉ DANIEL WILLIAMS ZAPATA Presidente del Congreso de la República MARTHA LUPE MOYANO DELGADO Primera Vicepresidenta del Congreso de la República 2177547-1 PODER EJECUTIVO COMERCIO EXTERIOR Y TURISMO Autorizan viaje de representante de PROMPERÚ para participar en eventos a realizarse en la Mancomunidad de Australia RESOLUCIÓN MINISTERIAL N° 140-2023-MINCETUR Lima, 5 de mayo de 2023 VISTO, el Oficio N° 000365-2023-PROMPERÚ/PE de la Presidencia Ejecutiva de la Comisión de Promoción del Perú para la Exportación y el Turismo – PROMPERÚ; y, CONSIDERANDO: Que, la Comisión de Promoción del Perú para la Exportación y el Turismo – PROMPERÚ, es un organismo\n",
            "\n"
          ]
        }
      ]
    },
    {
      "cell_type": "code",
      "source": [
        "### PASO 5: Traducción de fragmentos a inglés (idioma principal de BART)\n",
        "\n",
        "from transformers import pipeline\n",
        "\n",
        "traductor = pipeline(\"translation\", model=\"Helsinki-NLP/opus-mt-es-en\")\n",
        "\n",
        "fragmentos_eng = []\n",
        "i = 1\n",
        "for fragmento in fragmentos:\n",
        "    traduccion = traductor(fragmento, max_length=3072)\n",
        "    print(\"Traducción \" + str(i) + \":\")\n",
        "    i += 1\n",
        "    print(traduccion[0]['translation_text'])\n",
        "    print(\"\\n\")\n",
        "    fragmentos_eng.append(traduccion[0]['translation_text'])\n",
        "\n",
        "print(fragmentos_eng)"
      ],
      "metadata": {
        "colab": {
          "base_uri": "https://localhost:8080/"
        },
        "id": "bkm_ww8adN6d",
        "outputId": "a128f6fc-5233-4992-9217-9b2bfb28981f"
      },
      "execution_count": 28,
      "outputs": [
        {
          "output_type": "stream",
          "name": "stdout",
          "text": [
            "Traducción 1:\n",
            "4 NORMAS PODER LEGISLATIVE CONGRESS OF THE REPUBLIC LAW No. 31740 THE PRESIDENT OF THE CONGRESS OF THE REPUBLIC BY QUANTITY: THE CONGRESS OF THE REPUBLIC; It has given the following law: LAW AMENDING THE LAW 30424, LAW REGULATING THE ADMINISTRATIVE RESPONSIBILITY OF THE LEGAL PERSONS, TO STRENGTHENING THE ANTI-RUPTION NORMATIVE REFERRED TO THE LEGAL PERSONS AND PROMOTING THE BUEN CORPORATE GOVERNMENT Article 1.- AMENDING THE LAW 30424, LAW REGULATING THE ADMINISTRATIVE RESPONSIBILITY OF THE LEGAL PERSONS The title and articles 1, 2, 5, 12, 17 and 18 of the Law 30424, the Law Regulating the Administrative Liability of the Legal Persons, in the following terms: “THE LAW REGULATING THE ADMINISTRATIVE RESPONSIBILITY OF THE LEGAL PERSONS ARE AMENDED IN THE PENAL PROCES Article 1. Object of the Law The present law\n",
            "\n",
            "\n",
            "Traducción 2:\n",
            "Legal persons involved in the offences not covered by this article. Article 2. Subjective scope of application For the purposes of this law, legal persons are entities governed by private law, as well as associations, foundations, non-governmental organizations and non-registered committees, irregular companies, entities administering an autonomous estate and enterprises of the Peruvian State or companies with mixed economy. In the case of foreign legal persons, it shall be applicable when they carry out or carry out their activities, directly or indirectly, in the national territory, through any corporate modality, EGALES Saturday 13 May, 2023/ The Peruvian contractual or corporate entity, and any of the offences provided for in Article 1 is committed. The change of name, name or social reason, corporate reorganization, transformation, division, merger, liquidation or any act that may affect the legal personality of the entity does not prevent the attribution of responsibility to the same entity. In the case of a merger or division, the legal person absorbing: (i) can only be sanctioned by the payment of a fine, which is calculated taking into account the rules set out in Articles 5 and 7, as appropriate persons, and in function of the transferred heritage, provided that the offence is the offence has been committed.\n",
            "\n",
            "\n",
            "Traducción 3:\n",
            "(b) The natural person who, being subject to the authority and control of the persons mentioned in the preceding paragraph, has committed the offence under his orders or authorization. c. The natural person referred to in the preceding subparagraph, when the commission of the offence has been possible because the persons mentioned in paragraph a. have failed to fulfil their duties of supervision, surveillance and control over the activity entrusted, in accordance with the specific situation of the case. The legal persons who have the status of matrices shall be liable and punished provided that the natural persons of their subsidiaries or subsidiaries, who engage in any of the conduct referred to in the first paragraph, have acted under their orders, authorization or with their consent. The legal persons are not liable in cases where the natural persons mentioned in the first paragraph have committed the offences provided for in article 1, exclusively for the benefit or in favour of a third party other than the legal person. Article 5. Administrative measures applicable, at the request of the Public Ministry, imposes, as appropriate, the following administrative measures against the legal persons responsible for the commission of the offences provided for in article 1, a.\n",
            "\n",
            "\n",
            "Traducción 4:\n",
            "2. When it is not possible to determine the amount of benefit obtained or expected to be obtained with the commission of the offence, the fine is no less than ten (10) or more than ten thousand (10 000) tax units (ITU).The judges impose the fine, in a reasoned manner, according to the following criteria of substantiation and determination, as appropriate: 1.The breach of internal rules and procedures. 2.The amount and hierarchy of officials, employees and collaborators involved in the offence. 3.The failure to monitor the activity of the perpetrators and participants. 4.The extent of the damage caused. 5.The amount of money involved in the commission of the offence. 6.The size, nature and economic capacity of the legal person. 7.The spontaneous denunciation to the authorities by the legal person as a consequence of an activity of internal detection or investigation. 8.The behavior after the commission of the offence, the provision to mitigate or repair the damage.The fine must be paid within the ten working days of the judgment that is consented or enforceable.\n",
            "\n",
            "\n",
            "Traducción 5:\n",
            "or right, legal representatives or proxy, with the capacity to control the legal person; in this case, the judge only imposes the administrative measure of fine, which can be reduced by up to ninety percent. They are mitigating circumstances of the administrative responsibility of the legal persons the following ones: a. The objective, substantial and decisive collaboration in the clarification of the criminal act, until the beginning of the intermediate stage. b. The impediment of the harmful consequences of the illicit. c. The total or partial reparation of the damage. d. The adoption and implementation by the legal person, after the commission of the crime and before the start of the oral trial, of a prevention model. e. The partial accreditation of the minimum elements of the prevention model. Confession, duly corroborated, of the commission of the crime, prior to the formalization of the preparatory investigation, has the effect that the judge can reduce the measure established in paragraphs (a), (b) and (d) of article 5 to the legal minimum established, in case of temporary measures.\n",
            "\n",
            "\n",
            "Traducción 6:\n",
            ", in the exercise of its self-regulation, can implement or incorporate in its prevention model, any other element according to its risk profile and design the necessary mechanisms. In the case of the micro, small and medium enterprise, the model of prevention will be limited to its nature and characteristics. 17.4. In the case of enterprises of the State or companies of mixed economy, the model of prevention is exercised without prejudice to the competences and powers that correspond to the constituent bodies of the National Control System. 17.5. The content of the prevention model is developed in the regulation of this law. 6 NORMAS Article 18. Issuance of the technical report on the prevention model The prosecutor to formalize the preparatory investigation, provided that the legal person claims to have a prevention model, must have a technical report of the Superintendencia del Mercado de Valores (SMV) that analyzes the implementation and operation of the prevention model in relation to the crime attributed to the natural person. The technical report has the status of institutional expertise. The legal person who alleges a prevention model should provide the respective information and documentation, as well as the necessary facilities to the Superintendencia del Mercado.\n",
            "\n",
            "\n",
            "Traducción 7:\n",
            "Article 20. Confidentiality of the information and documentation on the prevention model The information and documentation provided by the legal person for the purpose of accrediting the implementation and functioning of its prevention model are confidential. Article 21. Powers of the Superintendency of the Securities Market In order to issue the technical report on the implementation and operation of the prevention model, the Superintendency of the Securities Market is empowered to: 1. Require the legal person the necessary information and documentation on its prevention model. 2. Conduct evaluation visits of the prevention model to the legal person, take statements to the personnel working on it and to the third parties with whom it maintains or has maintained a commercial or contractual relationship, as well as to any other whose declaration or contribution coadyuve for the purposes of issuing the technical report, which is reflected in physical or digital support. When the legal person does not deliver the information or documentation within the period established in the regulation or refuses to collaborate in the evaluation visits, the Superintendency of the Securities Market issues a report indicating such situation and the inability to conclude the implementation or operation of the prevention model of the article 22.\n",
            "\n",
            "\n",
            "Traducción 8:\n",
            "UNDA. Vigence of articles of the Law Article 1 of Law 30424, as amended by Article 1 of this Law and the unique additional derogation provision of this Law will enter into force within six (6) months of its publication. SINGLE DEROGATORY COMPLEMENTARY PROVISIONS. Repealing Regulation Article 11 of Law 28008, Customs Offences Law, and Article 17 of Legislative Decree 813, Tax Penal Law, are repealed. SO: Having been reconsidered the Law by the Congress of the Republic, insisting on the text approved in plenary session held on June 2nd of two thousand twenty-two, in accordance with the provisions of Article 108 of the Political Constitution of Peru, order to be published and complied with. In Lima, on the 12th day of May of two thousand twenty-three. JOSÉ DANIEL WILLIAMS ZAPATA President of the Congress of the Republic MARTHA LUPE MOYANO DELGADO First Vice-President of the Congress of the Republic of the Republic 2177547-1 Executive Power of External Trade and Turism Authorizes in Lima,\n",
            "\n",
            "\n",
            "['4 NORMAS PODER LEGISLATIVE CONGRESS OF THE REPUBLIC LAW No. 31740 THE PRESIDENT OF THE CONGRESS OF THE REPUBLIC BY QUANTITY: THE CONGRESS OF THE REPUBLIC; It has given the following law: LAW AMENDING THE LAW 30424, LAW REGULATING THE ADMINISTRATIVE RESPONSIBILITY OF THE LEGAL PERSONS, TO STRENGTHENING THE ANTI-RUPTION NORMATIVE REFERRED TO THE LEGAL PERSONS AND PROMOTING THE BUEN CORPORATE GOVERNMENT Article 1.- AMENDING THE LAW 30424, LAW REGULATING THE ADMINISTRATIVE RESPONSIBILITY OF THE LEGAL PERSONS The title and articles 1, 2, 5, 12, 17 and 18 of the Law 30424, the Law Regulating the Administrative Liability of the Legal Persons, in the following terms: “THE LAW REGULATING THE ADMINISTRATIVE RESPONSIBILITY OF THE LEGAL PERSONS ARE AMENDED IN THE PENAL PROCES Article 1. Object of the Law The present law', 'Legal persons involved in the offences not covered by this article. Article 2. Subjective scope of application For the purposes of this law, legal persons are entities governed by private law, as well as associations, foundations, non-governmental organizations and non-registered committees, irregular companies, entities administering an autonomous estate and enterprises of the Peruvian State or companies with mixed economy. In the case of foreign legal persons, it shall be applicable when they carry out or carry out their activities, directly or indirectly, in the national territory, through any corporate modality, EGALES Saturday 13 May, 2023/ The Peruvian contractual or corporate entity, and any of the offences provided for in Article 1 is committed. The change of name, name or social reason, corporate reorganization, transformation, division, merger, liquidation or any act that may affect the legal personality of the entity does not prevent the attribution of responsibility to the same entity. In the case of a merger or division, the legal person absorbing: (i) can only be sanctioned by the payment of a fine, which is calculated taking into account the rules set out in Articles 5 and 7, as appropriate persons, and in function of the transferred heritage, provided that the offence is the offence has been committed.', '(b) The natural person who, being subject to the authority and control of the persons mentioned in the preceding paragraph, has committed the offence under his orders or authorization. c. The natural person referred to in the preceding subparagraph, when the commission of the offence has been possible because the persons mentioned in paragraph a. have failed to fulfil their duties of supervision, surveillance and control over the activity entrusted, in accordance with the specific situation of the case. The legal persons who have the status of matrices shall be liable and punished provided that the natural persons of their subsidiaries or subsidiaries, who engage in any of the conduct referred to in the first paragraph, have acted under their orders, authorization or with their consent. The legal persons are not liable in cases where the natural persons mentioned in the first paragraph have committed the offences provided for in article 1, exclusively for the benefit or in favour of a third party other than the legal person. Article 5. Administrative measures applicable, at the request of the Public Ministry, imposes, as appropriate, the following administrative measures against the legal persons responsible for the commission of the offences provided for in article 1, a.', '2. When it is not possible to determine the amount of benefit obtained or expected to be obtained with the commission of the offence, the fine is no less than ten (10) or more than ten thousand (10 000) tax units (ITU).The judges impose the fine, in a reasoned manner, according to the following criteria of substantiation and determination, as appropriate: 1.The breach of internal rules and procedures. 2.The amount and hierarchy of officials, employees and collaborators involved in the offence. 3.The failure to monitor the activity of the perpetrators and participants. 4.The extent of the damage caused. 5.The amount of money involved in the commission of the offence. 6.The size, nature and economic capacity of the legal person. 7.The spontaneous denunciation to the authorities by the legal person as a consequence of an activity of internal detection or investigation. 8.The behavior after the commission of the offence, the provision to mitigate or repair the damage.The fine must be paid within the ten working days of the judgment that is consented or enforceable.', 'or right, legal representatives or proxy, with the capacity to control the legal person; in this case, the judge only imposes the administrative measure of fine, which can be reduced by up to ninety percent. They are mitigating circumstances of the administrative responsibility of the legal persons the following ones: a. The objective, substantial and decisive collaboration in the clarification of the criminal act, until the beginning of the intermediate stage. b. The impediment of the harmful consequences of the illicit. c. The total or partial reparation of the damage. d. The adoption and implementation by the legal person, after the commission of the crime and before the start of the oral trial, of a prevention model. e. The partial accreditation of the minimum elements of the prevention model. Confession, duly corroborated, of the commission of the crime, prior to the formalization of the preparatory investigation, has the effect that the judge can reduce the measure established in paragraphs (a), (b) and (d) of article 5 to the legal minimum established, in case of temporary measures.', ', in the exercise of its self-regulation, can implement or incorporate in its prevention model, any other element according to its risk profile and design the necessary mechanisms. In the case of the micro, small and medium enterprise, the model of prevention will be limited to its nature and characteristics. 17.4. In the case of enterprises of the State or companies of mixed economy, the model of prevention is exercised without prejudice to the competences and powers that correspond to the constituent bodies of the National Control System. 17.5. The content of the prevention model is developed in the regulation of this law. 6 NORMAS Article 18. Issuance of the technical report on the prevention model The prosecutor to formalize the preparatory investigation, provided that the legal person claims to have a prevention model, must have a technical report of the Superintendencia del Mercado de Valores (SMV) that analyzes the implementation and operation of the prevention model in relation to the crime attributed to the natural person. The technical report has the status of institutional expertise. The legal person who alleges a prevention model should provide the respective information and documentation, as well as the necessary facilities to the Superintendencia del Mercado.', 'Article 20. Confidentiality of the information and documentation on the prevention model The information and documentation provided by the legal person for the purpose of accrediting the implementation and functioning of its prevention model are confidential. Article 21. Powers of the Superintendency of the Securities Market In order to issue the technical report on the implementation and operation of the prevention model, the Superintendency of the Securities Market is empowered to: 1. Require the legal person the necessary information and documentation on its prevention model. 2. Conduct evaluation visits of the prevention model to the legal person, take statements to the personnel working on it and to the third parties with whom it maintains or has maintained a commercial or contractual relationship, as well as to any other whose declaration or contribution coadyuve for the purposes of issuing the technical report, which is reflected in physical or digital support. When the legal person does not deliver the information or documentation within the period established in the regulation or refuses to collaborate in the evaluation visits, the Superintendency of the Securities Market issues a report indicating such situation and the inability to conclude the implementation or operation of the prevention model of the article 22.', 'UNDA. Vigence of articles of the Law Article 1 of Law 30424, as amended by Article 1 of this Law and the unique additional derogation provision of this Law will enter into force within six (6) months of its publication. SINGLE DEROGATORY COMPLEMENTARY PROVISIONS. Repealing Regulation Article 11 of Law 28008, Customs Offences Law, and Article 17 of Legislative Decree 813, Tax Penal Law, are repealed. SO: Having been reconsidered the Law by the Congress of the Republic, insisting on the text approved in plenary session held on June 2nd of two thousand twenty-two, in accordance with the provisions of Article 108 of the Political Constitution of Peru, order to be published and complied with. In Lima, on the 12th day of May of two thousand twenty-three. JOSÉ DANIEL WILLIAMS ZAPATA President of the Congress of the Republic MARTHA LUPE MOYANO DELGADO First Vice-President of the Congress of the Republic of the Republic 2177547-1 Executive Power of External Trade and Turism Authorizes in Lima,']\n"
          ]
        }
      ]
    },
    {
      "cell_type": "code",
      "source": [
        "### PASO 6: Fragmentación de texto en inglés\n",
        "\n",
        "texto_ingles = \" \".join(fragmentos_eng)\n",
        "\n",
        "tokenizador = AutoTokenizer.from_pretrained(\"facebook/bart-large-cnn\")\n",
        "\n",
        "limite_tokens = 920 #Considerando el 90% del límite: 1024\n",
        "\n",
        "tokens = tokenizador.encode(texto_ingles, return_tensors='pt')\n",
        "cantidad_tokens = len(tokens[0])\n",
        "\n",
        "numero_fragmentos = (cantidad_tokens + limite_tokens - 1) // limite_tokens\n",
        "\n",
        "print(\"Cantidad total de tokens:\", cantidad_tokens)\n",
        "\n",
        "fragmentos_eng = []\n",
        "cant_tokens_fragmentos = []\n",
        "\n",
        "for i in range(0, cantidad_tokens, limite_tokens):\n",
        "    fragmento_tokens = tokens[0][i:i + limite_tokens]\n",
        "    fragmento = tokenizador.decode(fragmento_tokens, skip_special_tokens=True)\n",
        "    fragmentos_eng.append(fragmento)\n",
        "    cant_tokens_fragmentos.append(len(fragmento_tokens))\n",
        "\n",
        "print(\"Número de fragmentos necesarios:\", numero_fragmentos)\n",
        "for idx, (fragmento, cantidad) in enumerate(zip(fragmentos_eng, cant_tokens_fragmentos)):\n",
        "    print(f\"Fragmento {idx + 1} (Cantidad de tokens: {cantidad}):\\n{fragmento}\\n\")"
      ],
      "metadata": {
        "colab": {
          "base_uri": "https://localhost:8080/"
        },
        "id": "vb2UnRjSqKkC",
        "outputId": "27a19fc5-9e74-4a4a-cbef-680c38206765"
      },
      "execution_count": 29,
      "outputs": [
        {
          "output_type": "stream",
          "name": "stdout",
          "text": [
            "Cantidad total de tokens: 1876\n",
            "Número de fragmentos necesarios: 3\n",
            "Fragmento 1 (Cantidad de tokens: 920):\n",
            "4 NORMAS PODER LEGISLATIVE CONGRESS OF THE REPUBLIC LAW No. 31740 THE PRESIDENT OF THE CONGRESS OF THE REPUBLIC BY QUANTITY: THE CONGRESS OF THE REPUBLIC; It has given the following law: LAW AMENDING THE LAW 30424, LAW REGULATING THE ADMINISTRATIVE RESPONSIBILITY OF THE LEGAL PERSONS, TO STRENGTHENING THE ANTI-RUPTION NORMATIVE REFERRED TO THE LEGAL PERSONS AND PROMOTING THE BUEN CORPORATE GOVERNMENT Article 1.- AMENDING THE LAW 30424, LAW REGULATING THE ADMINISTRATIVE RESPONSIBILITY OF THE LEGAL PERSONS The title and articles 1, 2, 5, 12, 17 and 18 of the Law 30424, the Law Regulating the Administrative Liability of the Legal Persons, in the following terms: “THE LAW REGULATING THE ADMINISTRATIVE RESPONSIBILITY OF THE LEGAL PERSONS ARE AMENDED IN THE PENAL PROCES Article 1. Object of the Law The present law Legal persons involved in the offences not covered by this article. Article 2. Subjective scope of application For the purposes of this law, legal persons are entities governed by private law, as well as associations, foundations, non-governmental organizations and non-registered committees, irregular companies, entities administering an autonomous estate and enterprises of the Peruvian State or companies with mixed economy. In the case of foreign legal persons, it shall be applicable when they carry out or carry out their activities, directly or indirectly, in the national territory, through any corporate modality, EGALES Saturday 13 May, 2023/ The Peruvian contractual or corporate entity, and any of the offences provided for in Article 1 is committed. The change of name, name or social reason, corporate reorganization, transformation, division, merger, liquidation or any act that may affect the legal personality of the entity does not prevent the attribution of responsibility to the same entity. In the case of a merger or division, the legal person absorbing: (i) can only be sanctioned by the payment of a fine, which is calculated taking into account the rules set out in Articles 5 and 7, as appropriate persons, and in function of the transferred heritage, provided that the offence is the offence has been committed. (b) The natural person who, being subject to the authority and control of the persons mentioned in the preceding paragraph, has committed the offence under his orders or authorization. c. The natural person referred to in the preceding subparagraph, when the commission of the offence has been possible because the persons mentioned in paragraph a. have failed to fulfil their duties of supervision, surveillance and control over the activity entrusted, in accordance with the specific situation of the case. The legal persons who have the status of matrices shall be liable and punished provided that the natural persons of their subsidiaries or subsidiaries, who engage in any of the conduct referred to in the first paragraph, have acted under their orders, authorization or with their consent. The legal persons are not liable in cases where the natural persons mentioned in the first paragraph have committed the offences provided for in article 1, exclusively for the benefit or in favour of a third party other than the legal person. Article 5. Administrative measures applicable, at the request of the Public Ministry, imposes, as appropriate, the following administrative measures against the legal persons responsible for the commission of the offences provided for in article 1, a. 2. When it is not possible to determine the amount of benefit obtained or expected to be obtained with the commission of the offence, the fine is no less than ten (10) or more than ten thousand (10 000) tax units (ITU).The judges impose the fine, in a reasoned manner, according to the following criteria of substantiation and determination, as appropriate: 1.The breach of internal rules and procedures. 2.The amount and hierarchy of officials, employees and collaborators involved in the offence. 3.The failure to monitor the activity of the perpetrators and participants. 4.The extent of the damage caused. 5.The amount of money involved in the commission of the offence. 6.The size, nature and economic capacity of the legal person. 7.The spontaneous denunciation to the authorities by the legal person as a consequence of an activity of internal detection or investigation. 8.The behavior after the commission of the offence, the provision\n",
            "\n",
            "Fragmento 2 (Cantidad de tokens: 920):\n",
            " to mitigate or repair the damage.The fine must be paid within the ten working days of the judgment that is consented or enforceable. or right, legal representatives or proxy, with the capacity to control the legal person; in this case, the judge only imposes the administrative measure of fine, which can be reduced by up to ninety percent. They are mitigating circumstances of the administrative responsibility of the legal persons the following ones: a. The objective, substantial and decisive collaboration in the clarification of the criminal act, until the beginning of the intermediate stage. b. The impediment of the harmful consequences of the illicit. c. The total or partial reparation of the damage. d. The adoption and implementation by the legal person, after the commission of the crime and before the start of the oral trial, of a prevention model. e. The partial accreditation of the minimum elements of the prevention model. Confession, duly corroborated, of the commission of the crime, prior to the formalization of the preparatory investigation, has the effect that the judge can reduce the measure established in paragraphs (a), (b) and (d) of article 5 to the legal minimum established, in case of temporary measures., in the exercise of its self-regulation, can implement or incorporate in its prevention model, any other element according to its risk profile and design the necessary mechanisms. In the case of the micro, small and medium enterprise, the model of prevention will be limited to its nature and characteristics. 17.4. In the case of enterprises of the State or companies of mixed economy, the model of prevention is exercised without prejudice to the competences and powers that correspond to the constituent bodies of the National Control System. 17.5. The content of the prevention model is developed in the regulation of this law. 6 NORMAS Article 18. Issuance of the technical report on the prevention model The prosecutor to formalize the preparatory investigation, provided that the legal person claims to have a prevention model, must have a technical report of the Superintendencia del Mercado de Valores (SMV) that analyzes the implementation and operation of the prevention model in relation to the crime attributed to the natural person. The technical report has the status of institutional expertise. The legal person who alleges a prevention model should provide the respective information and documentation, as well as the necessary facilities to the Superintendencia del Mercado. Article 20. Confidentiality of the information and documentation on the prevention model The information and documentation provided by the legal person for the purpose of accrediting the implementation and functioning of its prevention model are confidential. Article 21. Powers of the Superintendency of the Securities Market In order to issue the technical report on the implementation and operation of the prevention model, the Superintendency of the Securities Market is empowered to: 1. Require the legal person the necessary information and documentation on its prevention model. 2. Conduct evaluation visits of the prevention model to the legal person, take statements to the personnel working on it and to the third parties with whom it maintains or has maintained a commercial or contractual relationship, as well as to any other whose declaration or contribution coadyuve for the purposes of issuing the technical report, which is reflected in physical or digital support. When the legal person does not deliver the information or documentation within the period established in the regulation or refuses to collaborate in the evaluation visits, the Superintendency of the Securities Market issues a report indicating such situation and the inability to conclude the implementation or operation of the prevention model of the article 22. UNDA. Vigence of articles of the Law Article 1 of Law 30424, as amended by Article 1 of this Law and the unique additional derogation provision of this Law will enter into force within six (6) months of its publication. SINGLE DEROGATORY COMPLEMENTARY PROVISIONS. Repealing Regulation Article 11 of Law 28008, Customs Offences Law, and Article 17 of Legislative Decree 813, Tax Penal Law, are repealed. SO: Having been reconsidered the Law by the Congress of the Republic, insisting on the text approved in plenary session held on June 2nd of two thousand twenty-two, in accordance with the provisions of Article 108 of the Political Constitution of Peru, order to be published and complied with. In Lima, on the 12th day of May of two thousand twenty-three. JOSÉ DANIEL WILLIAMS ZAPATA President of the Congress of the Republic MARTHA LUPE MOYANO\n",
            "\n",
            "Fragmento 3 (Cantidad de tokens: 36):\n",
            " DELGADO First Vice-President of the Congress of the Republic of the Republic 2177547-1 Executive Power of External Trade and Turism Authorizes in Lima,\n",
            "\n"
          ]
        }
      ]
    },
    {
      "cell_type": "code",
      "source": [
        "### PASO 7: Resumen de texto con modelo BART\n",
        "\n",
        "modelo_resumen = pipeline(\"summarization\", model=\"facebook/bart-large-cnn\")\n",
        "\n",
        "resumen_total = \"\"\n",
        "\n",
        "for fragmento in fragmentos_eng:\n",
        "    prompt = f\"Por favor, resume el siguiente texto, asegurándote de incluir detalles de la ley, sanciones/multas o posibles implementaciones:\\n\\n{fragmento}\"\n",
        "    resumen = modelo_resumen(prompt, fragmento, max_length=350, min_length=150, do_sample=False)\n",
        "    resumen_total += resumen[0]['summary_text'] + \"\\n\\n\"\n",
        "\n",
        "print(\"\\nResumen total del texto:\\n\")\n",
        "print(resumen_total)"
      ],
      "metadata": {
        "colab": {
          "base_uri": "https://localhost:8080/",
          "height": 359,
          "referenced_widgets": [
            "3fe411dd4f5e4be586df2277d9d2d858",
            "80a8570e59464811954067391dc29fd9",
            "9bb69162921941b09ea13ce10e0032f9",
            "3b09fc2250c24fc89894daca6f21211b",
            "0b50853b53b94d8486009429efd587cb",
            "9f247745758747a3b54e8c42e1eeb69d",
            "bdf16f09fb194082bb1d2e91e4d545e2",
            "129ddb39e70c409185b803d3468b095a",
            "037e394d2276483da186a864f7db246b",
            "c2fa2b8fc4f444c4a5e732b12470351e",
            "03d2a02989a94d6eadd043f80ded0461",
            "f8f7ab56e2fe4d179636193250b07755",
            "374d61f0be43449e834098cb8e6e88e2",
            "f705e2e1535c4b8ab293d88b08c5f565",
            "3d3a71852d494dad86b77b588e7cabd0",
            "44cc79ee859c4c91a0a03454a0377867",
            "c0360c4b67734ca881570e39a58905d2",
            "06ec86170e544a40a9ca6e3f66df463d",
            "fc75a3c0ba1d4fc6b40bd43a1b5be994",
            "a6e6d1dbab5d4b83a9428df46a27c09c",
            "234bd3f85f2c4316a8590a5633a4c7a3",
            "3c8548e42b464fe8861342dfd969b730"
          ]
        },
        "id": "W5nvqwT8ac49",
        "outputId": "853f94df-2b0f-48f0-8acb-ad3850c12c42"
      },
      "execution_count": 30,
      "outputs": [
        {
          "output_type": "display_data",
          "data": {
            "text/plain": [
              "model.safetensors:   0%|          | 0.00/1.63G [00:00<?, ?B/s]"
            ],
            "application/vnd.jupyter.widget-view+json": {
              "version_major": 2,
              "version_minor": 0,
              "model_id": "3fe411dd4f5e4be586df2277d9d2d858"
            }
          },
          "metadata": {}
        },
        {
          "output_type": "display_data",
          "data": {
            "text/plain": [
              "generation_config.json:   0%|          | 0.00/363 [00:00<?, ?B/s]"
            ],
            "application/vnd.jupyter.widget-view+json": {
              "version_major": 2,
              "version_minor": 0,
              "model_id": "f8f7ab56e2fe4d179636193250b07755"
            }
          },
          "metadata": {}
        },
        {
          "output_type": "stream",
          "name": "stderr",
          "text": [
            "Ignoring args : ('4 NORMAS PODER LEGISLATIVE CONGRESS OF THE REPUBLIC LAW No. 31740 THE PRESIDENT OF THE CONGRESS OF THE REPUBLIC BY QUANTITY: THE CONGRESS OF THE REPUBLIC; It has given the following law: LAW AMENDING THE LAW 30424, LAW REGULATING THE ADMINISTRATIVE RESPONSIBILITY OF THE LEGAL PERSONS, TO STRENGTHENING THE ANTI-RUPTION NORMATIVE REFERRED TO THE LEGAL PERSONS AND PROMOTING THE BUEN CORPORATE GOVERNMENT Article 1.- AMENDING THE LAW 30424, LAW REGULATING THE ADMINISTRATIVE RESPONSIBILITY OF THE LEGAL PERSONS The title and articles 1, 2, 5, 12, 17 and 18 of the Law 30424, the Law Regulating the Administrative Liability of the Legal Persons, in the following terms: “THE LAW REGULATING THE ADMINISTRATIVE RESPONSIBILITY OF THE LEGAL PERSONS ARE AMENDED IN THE PENAL PROCES Article 1. Object of the Law The present law Legal persons involved in the offences not covered by this article. Article 2. Subjective scope of application For the purposes of this law, legal persons are entities governed by private law, as well as associations, foundations, non-governmental organizations and non-registered committees, irregular companies, entities administering an autonomous estate and enterprises of the Peruvian State or companies with mixed economy. In the case of foreign legal persons, it shall be applicable when they carry out or carry out their activities, directly or indirectly, in the national territory, through any corporate modality, EGALES Saturday 13 May, 2023/ The Peruvian contractual or corporate entity, and any of the offences provided for in Article 1 is committed. The change of name, name or social reason, corporate reorganization, transformation, division, merger, liquidation or any act that may affect the legal personality of the entity does not prevent the attribution of responsibility to the same entity. In the case of a merger or division, the legal person absorbing: (i) can only be sanctioned by the payment of a fine, which is calculated taking into account the rules set out in Articles 5 and 7, as appropriate persons, and in function of the transferred heritage, provided that the offence is the offence has been committed. (b) The natural person who, being subject to the authority and control of the persons mentioned in the preceding paragraph, has committed the offence under his orders or authorization. c. The natural person referred to in the preceding subparagraph, when the commission of the offence has been possible because the persons mentioned in paragraph a. have failed to fulfil their duties of supervision, surveillance and control over the activity entrusted, in accordance with the specific situation of the case. The legal persons who have the status of matrices shall be liable and punished provided that the natural persons of their subsidiaries or subsidiaries, who engage in any of the conduct referred to in the first paragraph, have acted under their orders, authorization or with their consent. The legal persons are not liable in cases where the natural persons mentioned in the first paragraph have committed the offences provided for in article 1, exclusively for the benefit or in favour of a third party other than the legal person. Article 5. Administrative measures applicable, at the request of the Public Ministry, imposes, as appropriate, the following administrative measures against the legal persons responsible for the commission of the offences provided for in article 1, a. 2. When it is not possible to determine the amount of benefit obtained or expected to be obtained with the commission of the offence, the fine is no less than ten (10) or more than ten thousand (10 000) tax units (ITU).The judges impose the fine, in a reasoned manner, according to the following criteria of substantiation and determination, as appropriate: 1.The breach of internal rules and procedures. 2.The amount and hierarchy of officials, employees and collaborators involved in the offence. 3.The failure to monitor the activity of the perpetrators and participants. 4.The extent of the damage caused. 5.The amount of money involved in the commission of the offence. 6.The size, nature and economic capacity of the legal person. 7.The spontaneous denunciation to the authorities by the legal person as a consequence of an activity of internal detection or investigation. 8.The behavior after the commission of the offence, the provision',)\n",
            "Ignoring args : (' to mitigate or repair the damage.The fine must be paid within the ten working days of the judgment that is consented or enforceable. or right, legal representatives or proxy, with the capacity to control the legal person; in this case, the judge only imposes the administrative measure of fine, which can be reduced by up to ninety percent. They are mitigating circumstances of the administrative responsibility of the legal persons the following ones: a. The objective, substantial and decisive collaboration in the clarification of the criminal act, until the beginning of the intermediate stage. b. The impediment of the harmful consequences of the illicit. c. The total or partial reparation of the damage. d. The adoption and implementation by the legal person, after the commission of the crime and before the start of the oral trial, of a prevention model. e. The partial accreditation of the minimum elements of the prevention model. Confession, duly corroborated, of the commission of the crime, prior to the formalization of the preparatory investigation, has the effect that the judge can reduce the measure established in paragraphs (a), (b) and (d) of article 5 to the legal minimum established, in case of temporary measures., in the exercise of its self-regulation, can implement or incorporate in its prevention model, any other element according to its risk profile and design the necessary mechanisms. In the case of the micro, small and medium enterprise, the model of prevention will be limited to its nature and characteristics. 17.4. In the case of enterprises of the State or companies of mixed economy, the model of prevention is exercised without prejudice to the competences and powers that correspond to the constituent bodies of the National Control System. 17.5. The content of the prevention model is developed in the regulation of this law. 6 NORMAS Article 18. Issuance of the technical report on the prevention model The prosecutor to formalize the preparatory investigation, provided that the legal person claims to have a prevention model, must have a technical report of the Superintendencia del Mercado de Valores (SMV) that analyzes the implementation and operation of the prevention model in relation to the crime attributed to the natural person. The technical report has the status of institutional expertise. The legal person who alleges a prevention model should provide the respective information and documentation, as well as the necessary facilities to the Superintendencia del Mercado. Article 20. Confidentiality of the information and documentation on the prevention model The information and documentation provided by the legal person for the purpose of accrediting the implementation and functioning of its prevention model are confidential. Article 21. Powers of the Superintendency of the Securities Market In order to issue the technical report on the implementation and operation of the prevention model, the Superintendency of the Securities Market is empowered to: 1. Require the legal person the necessary information and documentation on its prevention model. 2. Conduct evaluation visits of the prevention model to the legal person, take statements to the personnel working on it and to the third parties with whom it maintains or has maintained a commercial or contractual relationship, as well as to any other whose declaration or contribution coadyuve for the purposes of issuing the technical report, which is reflected in physical or digital support. When the legal person does not deliver the information or documentation within the period established in the regulation or refuses to collaborate in the evaluation visits, the Superintendency of the Securities Market issues a report indicating such situation and the inability to conclude the implementation or operation of the prevention model of the article 22. UNDA. Vigence of articles of the Law Article 1 of Law 30424, as amended by Article 1 of this Law and the unique additional derogation provision of this Law will enter into force within six (6) months of its publication. SINGLE DEROGATORY COMPLEMENTARY PROVISIONS. Repealing Regulation Article 11 of Law 28008, Customs Offences Law, and Article 17 of Legislative Decree 813, Tax Penal Law, are repealed. SO: Having been reconsidered the Law by the Congress of the Republic, insisting on the text approved in plenary session held on June 2nd of two thousand twenty-two, in accordance with the provisions of Article 108 of the Political Constitution of Peru, order to be published and complied with. In Lima, on the 12th day of May of two thousand twenty-three. JOSÉ DANIEL WILLIAMS ZAPATA President of the Congress of the Republic MARTHA LUPE MOYANO',)\n",
            "Ignoring args : (' DELGADO First Vice-President of the Congress of the Republic of the Republic 2177547-1 Executive Power of External Trade and Turism Authorizes in Lima,',)\n",
            "Your max_length is set to 350, but your input_length is only 82. Since this is a summarization task, where outputs shorter than the input are typically wanted, you might consider decreasing max_length manually, e.g. summarizer('...', max_length=41)\n"
          ]
        },
        {
          "output_type": "stream",
          "name": "stdout",
          "text": [
            "\n",
            "Resumen total del texto:\n",
            "\n",
            "The law was passed on 13 May, 2023. It is aimed at strengthening the Anti-RUPTION NORMATIVE. It applies to legal persons, associations, foundations, non-governmental organizations, irregular companies, entities administering an autonomous estate and enterprises of the Peruvian State. The fine is no less than ten (10) or more than ten thousand (10 000) tax units (ITU). The judges impose the fine, in a reasoned manner, according to the following criteria of substantiation and determination, as appropriate. The change of name, name or social reason, corporate reorganization, transformation, division, merger, liquidation or any act that may affect the legal personality of the entity does not prevent the attribution of responsibility to the same entity.\n",
            "\n",
            "The fine must be paid within the ten working days of the judgment that is consented or enforceable. The judge only imposes the administrative measure of fine, which can be reduced by up to ninety percent. Confession, duly corroborated, of the commission of the crime, prior to the formalization of the preparatory investigation, has the effect that the judge can reduce the measure established in paragraphs (a), (b) and (d) of article 5 to the legal minimum established. The Superintendency of the Securities Market is empowered to issue the technical report on the implementation and operation of the prevention model. The legal person who alleges a prevention model should provide the respective information and documentation, as well as the necessary facilities to the Superintendencia del Mercado.\n",
            "\n",
            "First Vice-President of the Congress of the Republic of theRepublic 2177547-1 Executive Power of External Trade and Turism Authorizes in Lima, Lima, Peru. Por favor, resume el siguiente texto, asegurándote de incluir detalles de la ley, sanciones/multas o posibles implementaciones: http://www.dailymail.co.uk/news/article-277547/First-Vice-President-of-the-Congress-of the Republic of Lima receives executive power-of external-trade-and- Turism authorizes in Lima.html#storylink=cpy.\n",
            "\n",
            "\n"
          ]
        }
      ]
    }
  ]
}